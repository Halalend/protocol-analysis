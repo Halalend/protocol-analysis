{
 "cells": [
  {
   "cell_type": "markdown",
   "metadata": {},
   "source": [
    "<div style=\"background-color: #2C3E50; color: #CCCCCC; padding: 20px; border-radius: 10px;\">\n",
    "\n",
    "# **Repayment Simulation on Halalend Protocol**\n",
    "#### In this notebook, we'll explore how repaying a loan works within the Halalend lending protocol.\n",
    "\n",
    "## Assuming we have the following **Protocol Parameters:**\n",
    "\n",
    "</div>\n"
   ]
  },
  {
   "cell_type": "code",
   "execution_count": 9,
   "metadata": {
    "dotnet_interactive": {
     "language": "fsharp"
    },
    "polyglot_notebook": {
     "kernelName": "fsharp"
    },
    "vscode": {
     "languageId": "fsharp"
    }
   },
   "outputs": [],
   "source": [
    "// Collateral and Loan Settings\n",
    "let minimum_collateral_ratio = 1.5  // Minimum Collateral Ratio for ADA as Asset A\n",
    "let minimum_collateral_share_assetb = 0.1 // Minimum percentage required for collateral in Asset B\n",
    "let liquidationThreshold = 1.3  // Collateral Ratio at which liquidation starts \n",
    "\n",
    "// Loan Settings\n",
    "let minimum_loan_amount = 100.0  // USD, minimum amount one can borrow\n",
    "let maximum_loan_term_in_milliseconds = 1_209_600_000  // Maximum term for a loan in milliseconds\n",
    "\n",
    "// Financial and Risk Management Settings\n",
    "let liquidation_fee = 10.0  // USD, fee charged upon liquidation\n",
    "let protocol_usage_fee = 5.0  // USD, fee for using the protocol per loan operation"
   ]
  },
  {
   "cell_type": "markdown",
   "metadata": {},
   "source": [
    "<div style=\"background-color: #2C3E50; color: #CCCCCC; padding: 20px; border-radius: 10px;\">\n",
    "\n",
    "## And with this **Loan Position Details:**\n",
    "\n",
    "</div>\n"
   ]
  },
  {
   "cell_type": "code",
   "execution_count": 10,
   "metadata": {
    "dotnet_interactive": {
     "language": "fsharp"
    },
    "polyglot_notebook": {
     "kernelName": "fsharp"
    },
    "vscode": {
     "languageId": "fsharp"
    }
   },
   "outputs": [],
   "source": [
    "// amount to borrow and exchange rate\n",
    "let loan_amount = 120.0\n",
    "let loan_exchange_rate = 1.0\n",
    "\n",
    "// amount of collateral and exchange rate\n",
    "let asset_a_collateral = 350.0\n",
    "let asset_a_exchange_rate = 0.5\n",
    "let asset_b_collateral = 500.0\n",
    "let asset_b_exchange_rate = 0.05\n",
    "\n",
    "// loan term\n",
    "let loan_term = 1_209_600_000\n",
    "\n",
    "// Elapsed time\n",
    "let elapsed_time = 1_209_500_000"
   ]
  },
  {
   "cell_type": "markdown",
   "metadata": {},
   "source": [
    "<div style=\"background-color: #2C3E50; color: #CCCCCC; padding: 20px; border-radius: 10px;\">\n",
    "\n",
    "## The repayment is as straight forward as paying the protocol usage fee and the exact amount of loaned asset. Assuming that the position has not been liquidated yet.\n",
    "\n",
    "</div>\n"
   ]
  },
  {
   "cell_type": "code",
   "execution_count": 11,
   "metadata": {
    "dotnet_interactive": {
     "language": "fsharp"
    },
    "polyglot_notebook": {
     "kernelName": "fsharp"
    },
    "vscode": {
     "languageId": "fsharp"
    }
   },
   "outputs": [
    {
     "name": "stdout",
     "output_type": "stream",
     "text": [
      "Loan Amount: 120.000000\n",
      "Loan Repayment Amount: 119.000000\n",
      "\n",
      "Loan Repayment Success: false\n",
      "Collateral Asset A Received If Success: 350.000000\n",
      "Collateral Asset B Received If Success: 500.000000\n"
     ]
    }
   ],
   "source": [
    "// Loan payment details\n",
    "let loan_payment_amount = 119.0\n",
    "\n",
    "printf \"Loan Amount: %f\\n\" loan_amount\n",
    "printf \"Loan Repayment Amount: %f\\n\\n\" loan_payment_amount\n",
    "\n",
    "let loan_repayment_success = loan_payment_amount >= loan_amount\n",
    "\n",
    "printf \"Loan Repayment Success: %b\\n\" loan_repayment_success\n",
    "printf \"Collateral Asset A Received If Success: %f\\n\" asset_a_collateral\n",
    "printf \"Collateral Asset B Received If Success: %f\\n\" asset_b_collateral\n",
    "\n"
   ]
  }
 ],
 "metadata": {
  "kernelspec": {
   "display_name": ".NET (F#)",
   "language": "F#",
   "name": ".net-fsharp"
  },
  "language_info": {
   "file_extension": ".fs",
   "mimetype": "text/x-fsharp",
   "name": "F#",
   "pygments_lexer": "fsharp",
   "version": "8.0"
  },
  "polyglot_notebook": {
   "kernelInfo": {
    "defaultKernelName": "csharp",
    "items": [
     {
      "aliases": [],
      "name": "csharp"
     }
    ]
   }
  }
 },
 "nbformat": 4,
 "nbformat_minor": 2
}

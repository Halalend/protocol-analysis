{
 "cells": [
  {
   "cell_type": "markdown",
   "metadata": {},
   "source": [
    "# **Repaying Debt**\n",
    "\n",
    "#### Repaying debt is a straightforward process. The borrower must pay the exact amount owed plus the protocol usage fee. When a position is already below the liquidation threshold at the time of processing, the position will be liquidated and any pending request for repayment may be refunded.\n",
    "\n",
    "## Key Protocol Parameters:\n",
    "\n",
    "- **Liquidation Threshold:** Determines the threshold where the liquidation is triggered.\n",
    "- **Protocol Usage Fee:** A fee charged for using the Halalend Protocol to create a loan position.\n",
    "\n",
    "## On-chain Validation:\n",
    "\n",
    "- **Liquidity Pool UTXO:** Represents the available liquidity for a given asset, this will be consumed and create a new UTXO where the loan repayment amount is returned to this pool.\n",
    "- **Lending Validator:** A smart contract on Cardano that validates repayment requests and ensures they comply with protocol rules.\n",
    "- **Protocol Parameters UTXO:** Stores the protocol's operational parameters and lending criteria for reference in transactions.\n",
    "- **Oracle/DEX Liquidity Pool UTXO:** Provides current exchange rates for collateral and loan assets, essential for accurate valuation and risk assessment.\n",
    "- **Collateral Validator:** A smart contract on Cardano that validates if the collateral utxo can be unlocked.\n",
    "\n",
    "## Off-chain Infrastructure:\n",
    "\n",
    "- **Batcher:** An essential background service that batches transactions for processing. This component is crucial due to Cardano's UTXO model, where a UTXO can only be consumed by one transaction in a block. The batcher ensures multiple transactions can be processed efficiently."
   ]
  },
  {
   "cell_type": "markdown",
   "metadata": {
    "vscode": {
     "languageId": "fsharp"
    }
   },
   "source": [
    "### Assuming the following Protocol Parameters:"
   ]
  },
  {
   "cell_type": "code",
   "execution_count": 22,
   "metadata": {
    "dotnet_interactive": {
     "language": "fsharp"
    },
    "polyglot_notebook": {
     "kernelName": "fsharp"
    },
    "vscode": {
     "languageId": "fsharp"
    }
   },
   "outputs": [],
   "source": [
    "let LIQUIDATION_THRESHOLD = 1.2\n",
    "let PROTOCOL_USAGE_FEE = 5.0"
   ]
  },
  {
   "cell_type": "markdown",
   "metadata": {},
   "source": [
    "### And the following calculations:\n",
    "\n",
    "##### *Note: these are simplified calculations*"
   ]
  },
  {
   "cell_type": "code",
   "execution_count": 23,
   "metadata": {
    "dotnet_interactive": {
     "language": "fsharp"
    },
    "polyglot_notebook": {
     "kernelName": "fsharp"
    },
    "vscode": {
     "languageId": "fsharp"
    }
   },
   "outputs": [],
   "source": [
    "open System.Collections.Generic\n",
    "\n",
    "// Define the type for easier handling\n",
    "type CurrencyAmount = (string * (string * float) list)\n",
    "\n",
    "// Calculates the current collateral ratio of a loan position given the exchange rates of the collateral and the loan\n",
    "let calc_collateral_ratio total_collateral_value_in_usd total_loan_amount_in_usd = total_collateral_value_in_usd / total_loan_amount_in_usd\n",
    "\n",
    "// Function to extract amount value from the list inside the tuple\n",
    "let get_amount currency (amounts: CurrencyAmount list) =\n",
    "    amounts\n",
    "    |> List.tryFind (fun (c, _) -> c = currency) // Find the tuple with the matching currency\n",
    "    |> Option.map snd // Get the second part of the tuple, which is the list\n",
    "    |> Option.map (List.tryFind (fun (key, _) -> key = \"amount\")) // Find the amount in the list\n",
    "    |> Option.bind id // Flatten the Option<Option<_>> to Option<_>\n",
    "    |> Option.map snd // Get the amount value\n",
    "\n",
    "// Function to compare loan and repayment amounts for a given currency\n",
    "let compare_amount currency (loans: CurrencyAmount list) (repayments: CurrencyAmount list) =\n",
    "    match get_amount currency loans, get_amount currency repayments with\n",
    "    | Some loan_amount, Some repayment_amount -> repayment_amount >= loan_amount\n",
    "    | _ -> false // If either amount is not found, we cannot say repayment is sufficient\n",
    "    \n",
    "    "
   ]
  },
  {
   "cell_type": "markdown",
   "metadata": {},
   "source": [
    "### Now we need to define the loan parameters and current exchange rates\n",
    "\n",
    "Assuming the loan position has not reached the loan term expiration and is not yet eligibile for liquidation. In an actual Cardano Transaction, the NFT identifier for the loan position must be present in the transaction as this proves ownership of the collateral. For simplicity's sake, we will not be putting the NFT in this simulation."
   ]
  },
  {
   "cell_type": "code",
   "execution_count": 24,
   "metadata": {
    "dotnet_interactive": {
     "language": "fsharp"
    },
    "polyglot_notebook": {
     "kernelName": "fsharp"
    },
    "vscode": {
     "languageId": "fsharp"
    }
   },
   "outputs": [
    {
     "name": "stdout",
     "output_type": "stream",
     "text": [
      "Repayment is sufficient\n",
      "Collateral is unlocked and sent back to the borrower\n",
      "Protocol usage fee collected 5.000000\n",
      "Collateral assets unlocked map\n",
      "  [(\"halalend\", seq [[amount, 1000]]); (\"hosky\", seq [[amount, 100000]]);\n",
      "   (\"iUSD\", seq [[amount, 1000]])]\n"
     ]
    }
   ],
   "source": [
    "\n",
    "// Sample data\n",
    "let loan_amount: CurrencyAmount list = [(\"ADA\", [(\"amount\", 1000.0)])]\n",
    "let repayment_amount: CurrencyAmount list = [(\"ADA\", [(\"amount\", 1000.0)])]\n",
    "\n",
    "// These are the collaterals sent by the borrower to the contract\n",
    "let locked_collateral_assets = \n",
    "    [(\"iUSD\", dict [(\"amount\", box 1000.0)])\n",
    "     (\"halalend\", dict [(\"amount\", box 1000.0)])\n",
    "     (\"hosky\", dict [(\"amount\", box 100000.0)])]\n",
    "    |> Map.ofList\n",
    "\n",
    "// Test the function\n",
    "let isRepaymentSufficient = compare_amount \"ADA\" loan_amount repayment_amount\n",
    "\n",
    "if isRepaymentSufficient then\n",
    "    printf \"Repayment is sufficient\\n\"\n",
    "    printf \"Collateral is unlocked and sent back to the borrower\\n\"\n",
    "    printf \"Protocol usage fee collected %f\\n\" PROTOCOL_USAGE_FEE\n",
    "    printf \"Collateral assets unlocked %A\\n\" locked_collateral_assets\n",
    "else\n",
    "    printf \"Repayment is not sufficient\"\n",
    "\n",
    "\n",
    "\n"
   ]
  }
 ],
 "metadata": {
  "kernelspec": {
   "display_name": ".NET (F#)",
   "language": "F#",
   "name": ".net-fsharp"
  },
  "language_info": {
   "file_extension": ".fs",
   "mimetype": "text/x-fsharp",
   "name": "F#",
   "pygments_lexer": "fsharp",
   "version": "8.0"
  },
  "polyglot_notebook": {
   "kernelInfo": {
    "defaultKernelName": "csharp",
    "items": [
     {
      "aliases": [],
      "name": "csharp"
     }
    ]
   }
  }
 },
 "nbformat": 4,
 "nbformat_minor": 2
}

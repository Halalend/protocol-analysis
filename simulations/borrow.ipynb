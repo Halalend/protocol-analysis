{
 "cells": [
  {
   "cell_type": "markdown",
   "metadata": {},
   "source": [
    "\n",
    "## <span style=\"color: #CCCCCC;\">Protocol Parameter Values</span>"
   ]
  },
  {
   "cell_type": "code",
   "execution_count": null,
   "metadata": {
    "dotnet_interactive": {
     "language": "fsharp"
    },
    "polyglot_notebook": {
     "kernelName": "fsharp"
    },
    "vscode": {
     "languageId": "polyglot-notebook"
    }
   },
   "outputs": [],
   "source": [
    "// assuming currently only ADA is allowed for collateral, and native token is not yet in use \n",
    "let minimumCollateralRatio = 1.5\n",
    "let liquidationThreshold = 1.2\n",
    "let minimumLoanAmount = 100.0\n",
    "let maximumLoanToValueRatio = 1.0 / minimumCollateralRatio\n",
    "let maximumLoanTerm = 30.0 //days\n",
    "let liquidationFee = 10.0 // USDT\n",
    "let protocolUsageFee = 5.0 // USDT\n",
    "let minimumEligibleHealthFactor = 1.2"
   ]
  },
  {
   "cell_type": "markdown",
   "metadata": {},
   "source": [
    "\n",
    "## <span style=\"color: #CCCCCC;\">Calculations</span>"
   ]
  },
  {
   "cell_type": "code",
   "execution_count": null,
   "metadata": {
    "dotnet_interactive": {
     "language": "fsharp"
    },
    "polyglot_notebook": {
     "kernelName": "fsharp"
    },
    "vscode": {
     "languageId": "polyglot-notebook"
    }
   },
   "outputs": [],
   "source": [
    "let calculateHealthFactor collateralValue loanAmount  = collateralValue / (loanAmount * liquidationThreshold)\n",
    "let calculateLoanToValueRatio loanAmount collateralValue = loanAmount / (collateralValue * minimumCollateralRatio)\n",
    "let calculateMaxLoanToValueAmount collateralValue = collateralValue * maximumLoanToValueRatio\n",
    "let calculateCollateralRatio loanAmount collateralValue = collateralValue / loanAmount\n",
    "\n",
    "let canAvailLoan collateralValue totalLoanAmount =\n",
    "    let healthFactor = calculateHealthFactor collateralValue totalLoanAmount\n",
    "    let loanToValueRatio = calculateLoanToValueRatio totalLoanAmount collateralValue\n",
    "    let maxLoanToValueAmount = calculateMaxLoanToValueAmount collateralValue\n",
    "\n",
    "    printf \"Health Factor: %f\\n\" healthFactor\n",
    "    printf \"Loan To Value Ratio: %f\\n\" loanToValueRatio\n",
    "    printf \"Max Loan To Value Amount: %f\\n\" maxLoanToValueAmount\n",
    "\n",
    "    healthFactor >= minimumEligibleHealthFactor\n",
    "\n",
    "let canBeLiquidated collateralValue loanAmount daysElapsed = \n",
    "    if daysElapsed > maximumLoanTerm then\n",
    "        printf \"Loan Term Exceeded\\n\"\n",
    "        true\n",
    "    else\n",
    "        let healthFactor = calculateHealthFactor collateralValue loanAmount\n",
    "\n",
    "        printf \"Health Factor: %f\\n\" healthFactor\n",
    "        if healthFactor < liquidationThreshold then\n",
    "            printf \"Loan can be liquidated\\n\"\n",
    "            true\n",
    "        else\n",
    "            printf \"Loan cannot be liquidated\\n\"\n",
    "            false\n"
   ]
  },
  {
   "cell_type": "markdown",
   "metadata": {},
   "source": [
    "\n",
    "## <span style=\"color: #CCCCCC;\">Variables</span>"
   ]
  },
  {
   "cell_type": "code",
   "execution_count": null,
   "metadata": {
    "dotnet_interactive": {
     "language": "fsharp"
    },
    "polyglot_notebook": {
     "kernelName": "fsharp"
    },
    "vscode": {
     "languageId": "polyglot-notebook"
    }
   },
   "outputs": [],
   "source": [
    "let ada_to_usdt = 0.5\n",
    "let loanAmount = 1333.0 \n",
    "let collateralValue = 4000.0 "
   ]
  },
  {
   "cell_type": "markdown",
   "metadata": {},
   "source": [
    "\n",
    "## <span style=\"color: #CCCCCC;\">Borrow</span>"
   ]
  },
  {
   "cell_type": "code",
   "execution_count": null,
   "metadata": {
    "dotnet_interactive": {
     "language": "fsharp"
    },
    "polyglot_notebook": {
     "kernelName": "fsharp"
    },
    "vscode": {
     "languageId": "polyglot-notebook"
    }
   },
   "outputs": [],
   "source": [
    "let collateralValueInUSD = collateralValue * ada_to_usdt\n",
    "let loanDuration = 30.0 // days\n",
    "\n",
    "let healthFactor = calculateHealthFactor collateralValue loanAmount\n",
    "let loanToValueRatio = calculateLoanToValueRatio loanAmount collateralValue\n",
    "let maxLoanToValueAmount = calculateMaxLoanToValueAmount collateralValue\n",
    "\n",
    "printf \"Loan Amount: %f USD\\n\" borrowAmount\n",
    "printf \"Collateral Value: %f ADA \\n\" collateralValue\n",
    "printf \"Collateral Value in USD: %f USD\\n\\n\" collateralValueInUSD\n",
    "\n",
    "let canAvailLoan = canAvailLoan collateralValueInUSD loanAmount\n",
    "\n",
    "printf \"Can avail loan: %b\\n\" canAvailLoan\n",
    "\n"
   ]
  },
  {
   "cell_type": "markdown",
   "metadata": {},
   "source": [
    "\n",
    "## <span style=\"color: #CCCCCC;\">Liquidation</span>"
   ]
  },
  {
   "cell_type": "code",
   "execution_count": null,
   "metadata": {
    "dotnet_interactive": {
     "language": "fsharp"
    },
    "polyglot_notebook": {
     "kernelName": "fsharp"
    },
    "vscode": {
     "languageId": "polyglot-notebook"
    }
   },
   "outputs": [],
   "source": [
    "let daysElapsed = 10.0\n",
    "let currentAdaPrice = 0.45\n",
    "let currentCollateralValue = collateralValue * currentAdaPrice\n",
    "\n",
    "printf \"Days Elapsed: %f\\n\" daysElapsed\n",
    "printf \"Loan Amount: %f USD\\n\" loanAmount\n",
    "printf \"Current ADA Price: %f USD\\n\" currentAdaPrice\n",
    "printf \"Current Collateral Value: %f USD\\n\" currentCollateralValue\n",
    "\n",
    "let canBeLiquidated = canBeLiquidated currentCollateralValue loanAmount daysElapsed\n",
    "\n",
    "printf \"Can be liquidated: %b\\n\" canBeLiquidated\n",
    "\n"
   ]
  }
 ],
 "metadata": {
  "kernelspec": {
   "display_name": ".NET (F#)",
   "language": "F#",
   "name": ".net-fsharp"
  },
  "language_info": {
   "file_extension": ".fs",
   "mimetype": "text/x-fsharp",
   "name": "F#",
   "pygments_lexer": "fsharp",
   "version": "8.0"
  },
  "polyglot_notebook": {
   "kernelInfo": {
    "defaultKernelName": "csharp",
    "items": [
     {
      "aliases": [],
      "name": "csharp"
     },
     {
      "aliases": [],
      "name": "fsharp"
     }
    ]
   }
  }
 },
 "nbformat": 4,
 "nbformat_minor": 2
}

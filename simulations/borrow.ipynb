{
 "cells": [
  {
   "cell_type": "markdown",
   "metadata": {},
   "source": [
    "# **Create a Collateralized Debt Position**\n",
    "\n",
    "#### Creating a Collateralized Debt Position (CDP) within the Halalend Protocol on the Cardano blockchain involves a series of steps and meeting certain criteria to ensure the transaction's validity and compliance with the protocol's rules. The process can be outlined and simplified as follows:\n",
    "\n",
    "## Qualification Criteria for a CDP:\n",
    "\n",
    "- **Loan Amount and Collateral Ratio:** The amount you wish to borrow must meet or exceed the protocol's minimum collateral ratio. This ensures that the loan is overcollateralized, providing a buffer against market volatility.\n",
    "- **Allowed Collateral Assets:** Only specific assets approved by the Halalend Protocol can be used as collateral. These assets are listed in the protocol parameters, which may be subject to updates.\n",
    "- **Liquidity Requirements:** The liquidity pool must have sufficient funds to cover the loan you're requesting.\n",
    "- **Fees:** Borrowers are required to pay a protocol usage fee, the ADA fee set by the Cardano Network, and optionally, a batcher fee for expedited processing.\n",
    "\n",
    "## Key Protocol Parameters:\n",
    "\n",
    "- **Minimum Collateral Ratio:** Determines the required overcollateralization for loan approval.\n",
    "- **Minimum Loan Amount:** Sets the threshold for the smallest loan amount permissible.\n",
    "- **Protocol Usage Fee:** A fee charged for using the Halalend Protocol to create a loan position.\n",
    "- **Loan Term:** Specifies how long the loan will last before it needs to be repaid.\n",
    "- **Collateral Assets**: A list of assets that can be used as collateral.\n",
    "\n",
    "## On-chain Validation:\n",
    "\n",
    "- **Liquidity Pool UTXO:** Represents the available liquidity for a given asset, critical for ensuring the loan can be supported.\n",
    "- **Lending Validator:** A smart contract on Cardano that validates borrow requests and ensures they comply with protocol rules.\n",
    "- **Protocol Parameters UTXO:** Stores the protocol's operational parameters and lending criteria for reference in transactions.\n",
    "- **Loan Position NFT Minting Validator:** A smart contract responsible for creating NFTs that represent loan positions, allowing them to be traded or managed on secondary markets.\n",
    "- **Oracle/DEX Liquidity Pool UTXO:** Provides current exchange rates for collateral and loan assets, essential for accurate valuation and risk assessment.\n",
    "\n",
    "\n",
    "## Off-chain Infrastructure:\n",
    "\n",
    "- **Batcher:** An essential background service that batches transactions for processing. This component is crucial due to Cardano's UTXO model, where a UTXO can only be consumed by one transaction in a block. The batcher ensures multiple transactions can be processed efficiently."
   ]
  },
  {
   "cell_type": "markdown",
   "metadata": {},
   "source": [
    "### Assuming the following Protocol Parameters:"
   ]
  },
  {
   "cell_type": "code",
   "execution_count": 16,
   "metadata": {
    "dotnet_interactive": {
     "language": "fsharp"
    },
    "polyglot_notebook": {
     "kernelName": "fsharp"
    },
    "vscode": {
     "languageId": "polyglot-notebook"
    }
   },
   "outputs": [],
   "source": [
    "let MINIMUM_COLLATERAL_RATIO = 1.5\n",
    "let MINIMUM_LOAN_AMOUNT = 100.0\n",
    "let PROTOCOL_USAGE_FEE = 5.0\n",
    "let COLLATERAL_ASSETS = [\"ada\"; \"iUSD\"; \"halalend\"; \"hosky\"]\n",
    "let LOAN_TERM = 14 * 24 * 60 * 60 * 1000   // 14 days in milliseconds"
   ]
  },
  {
   "cell_type": "markdown",
   "metadata": {},
   "source": [
    "### And the following calculations:\n",
    "\n",
    "##### *Note: these are simplified calculations*"
   ]
  },
  {
   "cell_type": "code",
   "execution_count": 17,
   "metadata": {
    "dotnet_interactive": {
     "language": "fsharp"
    },
    "polyglot_notebook": {
     "kernelName": "fsharp"
    },
    "vscode": {
     "languageId": "polyglot-notebook"
    }
   },
   "outputs": [],
   "source": [
    "open System.Collections.Generic\n",
    "\n",
    "// Calculates the current collateral ratio of a loan position given the exchange rates of the collateral and the loan\n",
    "let calc_collateral_ratio total_collateral_value_in_usd total_loan_amount_in_usd = total_collateral_value_in_usd / total_loan_amount_in_usd\n",
    "\n",
    "// Checks if the collateral_assets are allowed\n",
    "let only_allowed_assets collateral_assets = not (List.exists (fun asset -> not (List.contains asset COLLATERAL_ASSETS)) collateral_assets)\n",
    "\n",
    "// Function to calculate total value for a single asset\n",
    "let calc_collateral_asset_value (asset: IDictionary<string, obj>) =\n",
    "    let exchangeRate = unbox<float>(asset.[\"exchange_rate\"])\n",
    "    let amount = unbox<float>(asset.[\"amount\"])\n",
    "    exchangeRate * amount\n",
    "\n",
    "// Checks if the borrower is eligible for a loan\n",
    "let is_eligible_for_loan assets collateral_usd loan_usd loan_term liquidity_usd =\n",
    "    let collateral_ratio_met = calc_collateral_ratio collateral_usd loan_usd >= MINIMUM_COLLATERAL_RATIO\n",
    "    let loan_amount_met = loan_usd >= MINIMUM_LOAN_AMOUNT\n",
    "    let liquidity_met = liquidity_usd >= loan_usd\n",
    "    let assets_met = only_allowed_assets assets\n",
    "    let term_met = loan_term <= LOAN_TERM\n",
    "\n",
    "    printf \"CDP Qualification Results:\\n\"\n",
    "    printf \"Collateral ratio met: %b\\n\" collateral_ratio_met\n",
    "    printf \"Loan amount met: %b\\n\" loan_amount_met\n",
    "    printf \"Liquidity met: %b\\n\" liquidity_met\n",
    "    printf \"Assets met: %b\\n\" assets_met\n",
    "    printf \"Term met: %b\\n\\n\" term_met\n",
    "\n",
    "    collateral_ratio_met && loan_amount_met && liquidity_met && assets_met && term_met\n",
    "    "
   ]
  },
  {
   "cell_type": "markdown",
   "metadata": {},
   "source": [
    "### Now we need to define the loan parameters and current exchange rates and check for eligibility to create a CDP"
   ]
  },
  {
   "cell_type": "code",
   "execution_count": 18,
   "metadata": {
    "dotnet_interactive": {
     "language": "fsharp"
    },
    "polyglot_notebook": {
     "kernelName": "fsharp"
    },
    "vscode": {
     "languageId": "polyglot-notebook"
    }
   },
   "outputs": [
    {
     "name": "stdout",
     "output_type": "stream",
     "text": [
      "Total collateral value: 1500.000000\n",
      "Loan amount: 1000.000000\n",
      "Liquidity: 10000.000000\n",
      "\n",
      "CDP Qualification Results:\n",
      "Collateral ratio met: true\n",
      "Loan amount met: true\n",
      "Liquidity met: true\n",
      "Assets met: true\n",
      "Term met: true\n",
      "\n",
      "Loan approved\n",
      "Protocol usage fee: 5.000000\n",
      "Remaining liquidity after loan: 9000.000000\n",
      "Total locked collateral: 1500.000000\n"
     ]
    }
   ],
   "source": [
    "// These are the collaterals sent by the borrower to the contract\n",
    "let collateral_assets = \n",
    "    [(\"iUSD\", dict [(\"exchange_rate\", box 1.0); (\"amount\", box 1000.0)])\n",
    "     (\"halalend\", dict [(\"exchange_rate\", box 0.4); (\"amount\", box 1000.0)])\n",
    "     (\"hosky\", dict [(\"exchange_rate\", box 0.001); (\"amount\", box 100000.0)])]\n",
    "    |> Map.ofList\n",
    "\n",
    "let loan_term = 14 * 24 * 60 * 60 * 1000   // 14 days in milliseconds\n",
    "let collateral_asset_list = collateral_assets |> Map.toList |> List.map fst\n",
    "let total_collateral_value_usd = \n",
    "    collateral_assets\n",
    "    |> Map.map (fun _ asset -> calc_collateral_asset_value asset)  // Calculate total for each asset\n",
    "    |> Map.fold (fun acc _ value -> acc + value) 0.0       // Sum up all totals\n",
    "let loan_usd = 1000.0 // this is the amount of the loan in USD\n",
    "let liquidity_usd = 10000.0 // this is the converted value of the liquidity pool UTXO in USD\n",
    "\n",
    "printf \"Total collateral value: %f\\n\" total_collateral_value_usd\n",
    "printf \"Loan amount: %f\\n\" loan_usd\n",
    "printf \"Liquidity: %f\\n\\n\" liquidity_usd\n",
    "\n",
    "let can_loan = is_eligible_for_loan collateral_asset_list total_collateral_value_usd loan_usd loan_term liquidity_usd\n",
    "\n",
    "if can_loan then\n",
    "    printf \"Loan approved\\n\"\n",
    "    printf \"Protocol usage fee: %f\\n\" PROTOCOL_USAGE_FEE\n",
    "    printf \"Remaining liquidity after loan: %f\\n\" (liquidity_usd - loan_usd )\n",
    "    printf \"Total locked collateral: %f\\n\" total_collateral_value_usd\n",
    "else\n",
    "    printf \"Loan denied\\n\"\n"
   ]
  }
 ],
 "metadata": {
  "kernelspec": {
   "display_name": ".NET (F#)",
   "language": "F#",
   "name": ".net-fsharp"
  },
  "language_info": {
   "name": "F#"
  }
 },
 "nbformat": 4,
 "nbformat_minor": 2
}

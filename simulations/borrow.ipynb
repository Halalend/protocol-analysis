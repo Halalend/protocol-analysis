{
 "cells": [
  {
   "cell_type": "markdown",
   "metadata": {},
   "source": [
    "<div style=\"background-color: #2C3E50; color: #CCCCCC; padding: 20px; border-radius: 10px;\">\n",
    "\n",
    "# **Borrowing Simulation on Halalend Protocol**\n",
    "#### In this notebook, we'll explore how borrowing works within the Halalend lending protocol. Imagine you need a short-term loan and you have an asset that you can use as collateral. We'll walk through how the protocol assesses the loan request, determines how much you can borrow, and ensures the safety of the loan against market fluctuations.\n",
    "\n",
    "## Assuming we have the following **Protocol Parameters:**\n",
    "\n",
    "</div>\n"
   ]
  },
  {
   "cell_type": "code",
   "execution_count": 1,
   "metadata": {
    "dotnet_interactive": {
     "language": "fsharp"
    },
    "polyglot_notebook": {
     "kernelName": "fsharp"
    },
    "vscode": {
     "languageId": "fsharp"
    }
   },
   "outputs": [
    {
     "data": {
      "text/html": [
       "\r\n",
       "<div>\r\n",
       "    <div id='dotnet-interactive-this-cell-3645.Microsoft.DotNet.Interactive.Http.HttpPort' style='display: none'>\r\n",
       "        The below script needs to be able to find the current output cell; this is an easy method to get it.\r\n",
       "    </div>\r\n",
       "    <script type='text/javascript'>\r\n",
       "async function probeAddresses(probingAddresses) {\r\n",
       "    function timeout(ms, promise) {\r\n",
       "        return new Promise(function (resolve, reject) {\r\n",
       "            setTimeout(function () {\r\n",
       "                reject(new Error('timeout'))\r\n",
       "            }, ms)\r\n",
       "            promise.then(resolve, reject)\r\n",
       "        })\r\n",
       "    }\r\n",
       "\r\n",
       "    if (Array.isArray(probingAddresses)) {\r\n",
       "        for (let i = 0; i < probingAddresses.length; i++) {\r\n",
       "\r\n",
       "            let rootUrl = probingAddresses[i];\r\n",
       "\r\n",
       "            if (!rootUrl.endsWith('/')) {\r\n",
       "                rootUrl = `${rootUrl}/`;\r\n",
       "            }\r\n",
       "\r\n",
       "            try {\r\n",
       "                let response = await timeout(1000, fetch(`${rootUrl}discovery`, {\r\n",
       "                    method: 'POST',\r\n",
       "                    cache: 'no-cache',\r\n",
       "                    mode: 'cors',\r\n",
       "                    timeout: 1000,\r\n",
       "                    headers: {\r\n",
       "                        'Content-Type': 'text/plain'\r\n",
       "                    },\r\n",
       "                    body: probingAddresses[i]\r\n",
       "                }));\r\n",
       "\r\n",
       "                if (response.status == 200) {\r\n",
       "                    return rootUrl;\r\n",
       "                }\r\n",
       "            }\r\n",
       "            catch (e) { }\r\n",
       "        }\r\n",
       "    }\r\n",
       "}\r\n",
       "\r\n",
       "function loadDotnetInteractiveApi() {\r\n",
       "    probeAddresses([\"http://192.168.156.68:2050/\", \"http://127.0.0.1:2050/\"])\r\n",
       "        .then((root) => {\r\n",
       "        // use probing to find host url and api resources\r\n",
       "        // load interactive helpers and language services\r\n",
       "        let dotnetInteractiveRequire = require.config({\r\n",
       "        context: '3645.Microsoft.DotNet.Interactive.Http.HttpPort',\r\n",
       "                paths:\r\n",
       "            {\r\n",
       "                'dotnet-interactive': `${root}resources`\r\n",
       "                }\r\n",
       "        }) || require;\r\n",
       "\r\n",
       "            window.dotnetInteractiveRequire = dotnetInteractiveRequire;\r\n",
       "\r\n",
       "            window.configureRequireFromExtension = function(extensionName, extensionCacheBuster) {\r\n",
       "                let paths = {};\r\n",
       "                paths[extensionName] = `${root}extensions/${extensionName}/resources/`;\r\n",
       "                \r\n",
       "                let internalRequire = require.config({\r\n",
       "                    context: extensionCacheBuster,\r\n",
       "                    paths: paths,\r\n",
       "                    urlArgs: `cacheBuster=${extensionCacheBuster}`\r\n",
       "                    }) || require;\r\n",
       "\r\n",
       "                return internalRequire\r\n",
       "            };\r\n",
       "        \r\n",
       "            dotnetInteractiveRequire([\r\n",
       "                    'dotnet-interactive/dotnet-interactive'\r\n",
       "                ],\r\n",
       "                function (dotnet) {\r\n",
       "                    dotnet.init(window);\r\n",
       "                },\r\n",
       "                function (error) {\r\n",
       "                    console.log(error);\r\n",
       "                }\r\n",
       "            );\r\n",
       "        })\r\n",
       "        .catch(error => {console.log(error);});\r\n",
       "    }\r\n",
       "\r\n",
       "// ensure `require` is available globally\r\n",
       "if ((typeof(require) !==  typeof(Function)) || (typeof(require.config) !== typeof(Function))) {\r\n",
       "    let require_script = document.createElement('script');\r\n",
       "    require_script.setAttribute('src', 'https://cdnjs.cloudflare.com/ajax/libs/require.js/2.3.6/require.min.js');\r\n",
       "    require_script.setAttribute('type', 'text/javascript');\r\n",
       "    \r\n",
       "    \r\n",
       "    require_script.onload = function() {\r\n",
       "        loadDotnetInteractiveApi();\r\n",
       "    };\r\n",
       "\r\n",
       "    document.getElementsByTagName('head')[0].appendChild(require_script);\r\n",
       "}\r\n",
       "else {\r\n",
       "    loadDotnetInteractiveApi();\r\n",
       "}\r\n",
       "\r\n",
       "    </script>\r\n",
       "</div>"
      ]
     },
     "metadata": {},
     "output_type": "display_data"
    }
   ],
   "source": [
    "// Collateral and Loan Settings\n",
    "let minimum_collateral_ratio = 1.5  // Minimum Collateral Ratio for ADA as Asset A\n",
    "let minimum_collateral_share_assetb = 0.1 // Minimum percentage required for collateral in Asset B\n",
    "let liquidationThreshold = 1.3  // Collateral Ratio at which liquidation starts \n",
    "\n",
    "// Loan Settings\n",
    "let minimum_loan_amount = 100.0  // USD, minimum amount one can borrow\n",
    "let maximum_loan_term_in_milliseconds = 1_209_600_000  // Maximum term for a loan in milliseconds\n",
    "\n",
    "// Financial and Risk Management Settings\n",
    "let liquidation_fee = 10.0  // USD, fee charged upon liquidation\n",
    "let protocol_usage_fee = 5.0  // USD, fee for using the protocol per loan operation"
   ]
  },
  {
   "cell_type": "markdown",
   "metadata": {},
   "source": [
    "<div style=\"background-color: #2C3E50; color: #CCCCCC; padding: 20px; border-radius: 10px;\">\n",
    "\n",
    "\n",
    "# **Loan Eligibility and Processing Calculations**\n",
    "\n",
    "#### In this section, we explore the core calculations that underpin our lending protocol. These calculations ensure that loans are issued safely, maintaining the integrity and solvency of the protocol.\n",
    "\n",
    "---\n",
    "\n",
    "### **Current Collateral Ratio**\n",
    "\n",
    "##### The Current *Collateral Ratio* is fundamental in assessing the safety of a loan. It compares the total value of the collateral to the loan amount, ensuring that the loan is adequately secured.\n",
    "\n",
    "```\n",
    "calculate_collateral_ratio a au b bu c cu = ((a * au) + (b * bu)) / (c * cu)\n",
    "```\n",
    "\n",
    "#### Here, *a* and *b* represent the quantities of Asset A and Asset B, while *au* and *bu* are their respective unit values in USD. *c* is the loan amount, and *cu* is the currency unit value (typically 1 if the loan is in USD).\n",
    "---\n",
    "\n",
    "### **Minimum Required Asset B Collateral**\n",
    "\n",
    "##### *Asset B*, our protocol's utility token, must constitute a minimum share of the collateral. This calculation ensures that this requirement is met.\n",
    "\n",
    "```\n",
    "calculate_minimum_assetb_collateral loan_amount_usd = loan_amount_usd * minimum_collateral_ratio * minimum_collateral_share_assetb\n",
    "```\n",
    "---\n",
    "\n",
    "### **Maximum Loanable Amount**\n",
    "\n",
    "##### Determining the maximum amount that can be loaned against a given collateral ensures that loans remain within safe limits, preserving the protocol's health.\n",
    "\n",
    "```\n",
    "calculate_max_loanable_amount collateral_usd = collateral_usd * (1.0 / minimum_collateral_ratio)\n",
    "```\n",
    "---\n",
    "\n",
    "### **Asset B Collateral Requirement**\n",
    "\n",
    "##### This check confirms whether the collateral in Asset B meets the protocol's minimum requirements, a key factor in the loan approval process.\n",
    "\n",
    "```\n",
    "is_assetb_collateral_met loan_amount_usd utility_asset_usd = utility_asset_usd >= (loan_amount_usd * minimum_collateral_ratio * minimum_collateral_share_assetb)\n",
    "```\n",
    "---\n",
    "\n",
    "### **Total Minimum Collateral Requirement**\n",
    "\n",
    "##### It's crucial to verify that the combined collateral meets or exceeds the minimum collateral ratio, ensuring the loan's security against market volatility.\n",
    "\n",
    "```\n",
    "is_collateral_ratio_met a au b bu c cu = (calculate_collateral_ratio a au b bu c cu) >= minimum_collateral_ratio\n",
    "```\n",
    "---\n",
    "\n",
    "### **Eligiblity Check**\n",
    "\n",
    "##### Finally, assessing whether a loan can be issued involves a comprehensive check, including collateral ratios, minimum amounts, and loan terms.\n",
    "\n",
    "```\n",
    "can_loan a au b bu c cu loan_term = collateral_ratio_met && minimum_collateral_asset_b_met && minimum_loan_amount_met && loan_term_met\n",
    "```\n",
    "---\n",
    "\n",
    "\n",
    "</div>"
   ]
  },
  {
   "cell_type": "code",
   "execution_count": 2,
   "metadata": {
    "dotnet_interactive": {
     "language": "fsharp"
    },
    "polyglot_notebook": {
     "kernelName": "fsharp"
    },
    "vscode": {
     "languageId": "fsharp"
    }
   },
   "outputs": [],
   "source": [
    "// Calculate the current collateral ratio\n",
    "let calculate_collateral_ratio a au b bu c cu = ((a * au) + (b * bu)) / (c * cu)\n",
    "\n",
    "// Calculate the minimum required asset B collateral\n",
    "let calculate_minimum_assetb_collateral loan_amount_usd =\n",
    "    loan_amount_usd * minimum_collateral_ratio * minimum_collateral_share_assetb\n",
    "\n",
    "// Calculate the max loanable amount for a given collateral\n",
    "let calculate_max_loanable_amount collateral_usd =\n",
    "    let max_loan_to_value = 1.0 / minimum_collateral_ratio\n",
    "    collateral_usd * max_loan_to_value\n",
    "\n",
    "// Calculate if the minimum utility token collateral is met\n",
    "let is_assetb_collateral_met loan_amount_usd utility_asset_usd =\n",
    "    let required_collateral = loan_amount_usd * minimum_collateral_ratio\n",
    "    let required_asset_b_collateral = required_collateral * minimum_collateral_share_assetb\n",
    "    utility_asset_usd >= required_asset_b_collateral\n",
    "\n",
    "// Calculate if the total minimum collateral is met\n",
    "let is_collateral_ratio_met a au b bu c cu =\n",
    "    let collateral_ratio = calculate_collateral_ratio a au b bu c cu\n",
    "    collateral_ratio >= minimum_collateral_ratio\n",
    "\n",
    "// Calculate if the loan can be taken\n",
    "let can_loan a au b bu c cu loan_term =\n",
    "    let collateral_ratio_met = is_collateral_ratio_met a au b bu c cu\n",
    "    let minimum_collateral_asset_b_met = is_assetb_collateral_met (c * cu) (b * bu)\n",
    "    let minimum_loan_amount_met = (c * cu) >= minimum_loan_amount\n",
    "    let loan_term_met = loan_term <= maximum_loan_term_in_milliseconds\n",
    "\n",
    "    printf \"LOAN CONDITIONS\\n\"\n",
    "    printf \"Minimum Collateral Ratio Met: %b\\n\" collateral_ratio_met\n",
    "    printf \"Minimum Collateral Asset B Met: %b\\n\" minimum_collateral_asset_b_met\n",
    "    printf \"Minimum Loan Amount Met: %b\\n\" minimum_loan_amount_met\n",
    "    printf \"Loan Term Met: %b\\n\\n\" loan_term_met\n",
    "\n",
    "    collateral_ratio_met && minimum_loan_amount_met && loan_term_met && minimum_collateral_asset_b_met"
   ]
  },
  {
   "cell_type": "markdown",
   "metadata": {},
   "source": [
    "<div style=\"background-color: #2C3E50; color: #CCCCCC; padding: 20px; border-radius: 10px;\">\n",
    "\n",
    "## <span style=\"color: #CCCCCC;\">Creating a Loan Position: User's Guide</span>\n",
    "\n",
    "#### When a user decide to avail a loan from our protocol, here's the essential information they'll need to provide and how it's used to evaluate the loan request.\n",
    "\n",
    "---\n",
    "\n",
    "### **Loan Request Details**\n",
    "\n",
    "#### First, let's break down the key components of the loan request:\n",
    "\n",
    "- *Loan Amount:* The total sum you wish to borrow. For our example, you're looking to borrow $120.0.\n",
    "- *Loan Exchange Rate:* The value of the loan currency against USD.\n",
    "- *Collateral:* Assets pledged to secure the loan in Asset A and Asset B (Protocol's Utility Token).\n",
    "- *Exchange Rates for Collateral:* The current market value of the collateral assets in USD.\n",
    "- *Loan Term:* The duration for which the user intends to borrow the funds, set at 1,209,600,000 milliseconds (equivalent to 14 days).\n",
    "\n",
    "\n",
    "### *Evaluation Process*\n",
    "\n",
    "#### The protocol evaluates the loan request based on the following criteria:\n",
    "\n",
    "### **Collateral Valuation:**  First, we convert the collateral quantities into USD using the provided exchange rates:\n",
    "\n",
    "```\n",
    "total_collateral_value = (asset_a_collateral * asset_a_exchange_rate) + (asset_b_collateral * asset_b_exchange_rate)\n",
    "```\n",
    "\n",
    "### **Current Collateral Ratio (CR):**  We assess the safety of the loan by calculating the CR, ensuring it exceeds the minimum threshold set by the protocol:\n",
    "\n",
    "```\n",
    "current_collateral_ratio = total_collateral_value / (loan_amount * loan_exchange_rate)\n",
    "```\n",
    "\n",
    "### **Asset B Minimum Requirement:**  We verify that Asset B's contribution meets the 10% minimum collateral requirement:\n",
    "\n",
    "```\n",
    "asset_b_value_usd = asset_b_collateral * asset_b_exchange_rate\n",
    "minimum_required_asset_b = (loan_amount * loan_exchange_rate) * minimum_collateral_ratio * minimum_collateral_share_assetb\n",
    "```\n",
    "\n",
    "#### Asset B's value in USD must exceed minimum_required_asset_b to satisfy this requirement.\n",
    "\n",
    "### **Loan Term Validation:**  Lastly, we ensure the requested loan term does not exceed the maximum allowed duration.\n",
    "\n",
    "\n",
    "</div>\n",
    "\n"
   ]
  },
  {
   "cell_type": "markdown",
   "metadata": {},
   "source": [
    "\n",
    "## <span style=\"color: #CCCCCC;\">Loan Details</span>"
   ]
  },
  {
   "cell_type": "code",
   "execution_count": 3,
   "metadata": {
    "dotnet_interactive": {
     "language": "fsharp"
    },
    "polyglot_notebook": {
     "kernelName": "fsharp"
    },
    "vscode": {
     "languageId": "fsharp"
    }
   },
   "outputs": [],
   "source": [
    "// amount to borrow and exchange rate\n",
    "let loan_amount = 120.0\n",
    "let loan_exchange_rate = 1.0\n",
    "\n",
    "// amount of collateral and exchange rate\n",
    "let asset_a_collateral = 350.0\n",
    "let asset_a_exchange_rate = 0.5\n",
    "let asset_b_collateral = 500.0\n",
    "let asset_b_exchange_rate = 0.05\n",
    "\n",
    "// loan term\n",
    "let loan_term = 1_209_600_000"
   ]
  },
  {
   "cell_type": "markdown",
   "metadata": {},
   "source": [
    "\n",
    "## <span style=\"color: #CCCCCC;\">Actual Calculations</span>"
   ]
  },
  {
   "cell_type": "code",
   "execution_count": 4,
   "metadata": {
    "dotnet_interactive": {
     "language": "fsharp"
    },
    "polyglot_notebook": {
     "kernelName": "fsharp"
    },
    "vscode": {
     "languageId": "fsharp"
    }
   },
   "outputs": [
    {
     "name": "stdout",
     "output_type": "stream",
     "text": [
      "LOAN DETAILS\n",
      "Loan Amount: 120.000000 USD\n",
      "Asset A Collateral: 175.000000 USD\n",
      "Asset B Collateral: 25.000000 USD\n",
      "Total Collateral: 200.000000 USD\n",
      "Loan to Value: 60.000000 %\n",
      "\n",
      "LOAN LIMITS AND REQUIREMENTS\n",
      "Max Loanable Amount: 133.333333 USD\n",
      "Max Loan to Value: 66.666667 %\n",
      "Minimum Asset B Collateral: 18.000000 USD\n",
      "\n",
      "LOAN CONDITIONS\n",
      "Minimum Collateral Ratio Met: true\n",
      "Minimum Collateral Asset B Met: true\n",
      "Minimum Loan Amount Met: true\n",
      "Loan Term Met: true\n",
      "\n",
      "LOAN ELIGIBILITY\n",
      "Collateral Ratio: 1.666667\n",
      "Minimum Collateral Ratio: 1.500000\n",
      "Eligible: true\n"
     ]
    }
   ],
   "source": [
    "// calculate usd value\n",
    "let asset_a_usd = asset_a_collateral * asset_a_exchange_rate\n",
    "let asset_b_usd = asset_b_collateral * asset_b_exchange_rate\n",
    "let total_collateral = asset_a_usd + asset_b_usd\n",
    "let loan_amount_usd = loan_amount * loan_exchange_rate\n",
    "let loan_to_value = (loan_amount_usd / total_collateral) * 100.0\n",
    "\n",
    "printf \"LOAN DETAILS\\n\"\n",
    "printf \"Loan Amount: %f USD\\n\" loan_amount_usd\n",
    "printf \"Asset A Collateral: %f USD\\n\" asset_a_usd\n",
    "printf \"Asset B Collateral: %f USD\\n\" asset_b_usd\n",
    "printf \"Total Collateral: %f USD\\n\" total_collateral\n",
    "printf \"Loan to Value: %f %%\\n\\n\" loan_to_value\n",
    "\n",
    "\n",
    "// calculate loanable amount and minimum collateral\n",
    "let max_loanable_amount = calculate_max_loanable_amount (asset_a_usd + asset_b_usd)\n",
    "let max_loan_to_value = 1.0 / minimum_collateral_ratio\n",
    "let minimum_asset_b_collateral = calculate_minimum_assetb_collateral loan_amount_usd\n",
    "\n",
    "printf \"LOAN LIMITS AND REQUIREMENTS\\n\"\n",
    "printf \"Max Loanable Amount: %f USD\\n\" max_loanable_amount\n",
    "printf \"Max Loan to Value: %f %%\\n\" (max_loan_to_value * 100.0)\n",
    "printf \"Minimum Asset B Collateral: %f USD\\n\\n\" minimum_asset_b_collateral\n",
    "\n",
    "// calculate eligibility\n",
    "let collateral_ratio = calculate_collateral_ratio asset_a_collateral asset_a_exchange_rate asset_b_collateral asset_b_exchange_rate loan_amount loan_exchange_rate\n",
    "let eligible = can_loan asset_a_collateral asset_a_exchange_rate asset_b_collateral asset_b_exchange_rate loan_amount loan_exchange_rate loan_term\n",
    "\n",
    "printf \"LOAN ELIGIBILITY\\n\"\n",
    "printf \"Collateral Ratio: %f\\n\" collateral_ratio\n",
    "printf \"Minimum Collateral Ratio: %f\\n\" minimum_collateral_ratio\n",
    "printf \"Eligible: %b\\n\" eligible"
   ]
  }
 ],
 "metadata": {
  "kernelspec": {
   "display_name": ".NET (F#)",
   "language": "F#",
   "name": ".net-fsharp"
  },
  "language_info": {
   "file_extension": ".fs",
   "mimetype": "text/x-fsharp",
   "name": "F#",
   "pygments_lexer": "fsharp",
   "version": "8.0"
  },
  "polyglot_notebook": {
   "kernelInfo": {
    "defaultKernelName": "csharp",
    "items": [
     {
      "aliases": [],
      "name": "csharp"
     },
     {
      "aliases": [],
      "name": "fsharp"
     }
    ]
   }
  }
 },
 "nbformat": 4,
 "nbformat_minor": 2
}

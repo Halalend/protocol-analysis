{
 "cells": [
  {
   "cell_type": "markdown",
   "metadata": {},
   "source": [
    "<div style=\"background-color: #2C3E50; color: #CCCCCC; padding: 20px; border-radius: 10px;\">\n",
    "\n",
    "# **Liquidation Simulation in Halalend Protocol**\n",
    "#### Within the Halalend lending protocol, maintaining the stability and security of loans is paramount. This section simulates the protocol's automated system designed to manage liquidations. Liquidation occurs when the value of collateral falls below a certain threshold, necessitating action to mitigate potential losses. We'll delve into how the protocol identifies loans at risk and executes liquidation to safeguard both the borrower's and lender's interests.\n",
    "\n",
    "## Assuming we have the following **Protocol Parameters:**\n",
    "\n",
    "</div>\n"
   ]
  },
  {
   "cell_type": "code",
   "execution_count": 59,
   "metadata": {
    "dotnet_interactive": {
     "language": "fsharp"
    },
    "polyglot_notebook": {
     "kernelName": "fsharp"
    },
    "vscode": {
     "languageId": "fsharp"
    }
   },
   "outputs": [],
   "source": [
    "// Collateral and Loan Settings\n",
    "let minimum_collateral_ratio = 2.0  // Minimum Collateral Ratio for ADA as Asset A\n",
    "let minimum_collateral_share_assetb = 0.1 // Minimum percentage required for collateral in Asset B\n",
    "let liquidation_threshold = 1.5  // Collateral Ratio at which liquidation starts \n",
    "\n",
    "// Loan Settings\n",
    "let minimum_loan_amount = 100.0  // USD, minimum amount one can borrow\n",
    "let maximum_loan_term_in_milliseconds = 1_209_600_000  // Maximum term for a loan in milliseconds\n",
    "\n",
    "// Financial and Risk Management Settings\n",
    "let liquidation_fee = 10.0  // USD, fee charged upon liquidation\n",
    "let protocol_usage_fee = 5.0  // USD, fee for using the protocol per loan operation"
   ]
  },
  {
   "cell_type": "markdown",
   "metadata": {},
   "source": [
    "<div style=\"background-color: #2C3E50; color: #CCCCCC; padding: 20px; border-radius: 10px;\">\n",
    "\n",
    "\n",
    "# **Liquidation Calculations Explained**\n",
    "\n",
    "---\n",
    "\n",
    "### **Current Collateral Ratio Calculation**\n",
    "\n",
    "##### The Current *Collateral Ratio* is a critical measure in assessing the health of a loan. It's calculated by summing the value of all collateral assets (Asset A and Asset B) and dividing by the total loan amount, factoring in the respective exchange rates for each asset and the loan currency.\n",
    "\n",
    "```\n",
    "calculate_collateral_ratio a au b bu c cu = ((a * au) + (b * bu)) / (c * cu)\n",
    "```\n",
    "\n",
    "#### Here, *a* and *b* represent the quantities of Asset A and Asset B, while *au* and *bu* are their respective unit values in USD. *c* is the loan amount, and *cu* is the currency unit value (typically 1 if the loan is in USD).\n",
    "---\n",
    "\n",
    "### **Liquidation Eligibility Check**\n",
    "\n",
    "##### The protocol's automated system periodically assesses each loan to determine if it's eligible for liquidation. This involves two key checks:\n",
    "\n",
    "- *Loan Term Expiry:* If the elapsed time since the loan was issued exceeds the agreed loan term, the loan is considered expired and eligible for liquidation.\n",
    "- *Collateral Value Drop*: If the current collateral ratio falls below the predefined liquidation threshold, it indicates that the collateral no longer provides adequate security for the loan due to a decrease in its market value.\n",
    "\n",
    "```\n",
    "is_liquidatable a au b bu c cu loan_term elapsed_time =\n",
    "    let is_expired = elapsed_time > loan_term\n",
    "    let current_collateral_ratio = calculate_collateral_ratio a au b bu c cu\n",
    "    let is_below_liquidation_threshold = current_collateral_ratio < liquidationThreshold\n",
    "\n",
    "    printf \"Current Collateral Ratio: %f\\n\" current_collateral_ratio\n",
    "    printf \"Is Expired: %b\\n\" is_expired\n",
    "    printf \"Is Below Liquidation Threshold: %b\\n\" is_below_liquidation_threshold\n",
    "    printf \"Liquidation Threshold: %f\\n\\n\" liquidationThreshold\n",
    "\n",
    "    is_expired || is_below_liquidation_threshold\n",
    "```\n",
    "\n",
    "#### Here:\n",
    "#### - *elapsed_time:* The time that has passed since the loan was taken out.\n",
    "#### - *loan_term:* The agreed duration of the loan.\n",
    "\n",
    "#### This function prints out the current collateral ratio, whether the loan term has expired, if the collateral ratio is below the liquidation threshold, and what the liquidation threshold is. If either condition is met, the loan is marked for liquidation.\n",
    "---\n",
    "</div>"
   ]
  },
  {
   "cell_type": "code",
   "execution_count": 60,
   "metadata": {
    "dotnet_interactive": {
     "language": "fsharp"
    },
    "polyglot_notebook": {
     "kernelName": "fsharp"
    },
    "vscode": {
     "languageId": "fsharp"
    }
   },
   "outputs": [],
   "source": [
    "let calculate_collateral_ratio a au b bu c cu = ((a * au) + (b * bu)) / (c * cu)\n",
    "\n",
    "// check if a loan position is for liquidation\n",
    "let is_liquidatable a au b bu c cu loan_term elapsed_time =\n",
    "    let is_expired = elapsed_time > loan_term\n",
    "    let current_collateral_ratio = calculate_collateral_ratio a au b bu c cu\n",
    "    let is_below_liquidation_threshold = current_collateral_ratio < liquidation_threshold\n",
    "\n",
    "    printf \"Current Collateral Ratio: %f\\n\" current_collateral_ratio\n",
    "    printf \"Is Expired: %b\\n\" is_expired\n",
    "    printf \"Is Below Liquidation Threshold: %b\\n\" is_below_liquidation_threshold\n",
    "    printf \"Liquidation Threshold: %f\\n\\n\" liquidation_threshold\n",
    "\n",
    "    is_expired || is_below_liquidation_threshold\n",
    "    "
   ]
  },
  {
   "cell_type": "markdown",
   "metadata": {},
   "source": [
    "<div style=\"background-color: #2C3E50; color: #CCCCCC; padding: 20px; border-radius: 10px;\">\n",
    "\n",
    "## <span style=\"color: #CCCCCC;\">Evaluation for Liquidation</span>\n",
    "\n",
    "#### To assess whether a loan position should be liquidated, the protocol follows these steps:\n",
    "\n",
    "---\n",
    "\n",
    "- *Calculate the Current Collateral Value:*  Using the provided collateral amounts and exchange rates, the total value of the collateral in USD is computed as current_collateral_value.\n",
    "- *Determine the Current Collateral Ratio (CR):* The current CR is calculated by dividing current_collateral_value by loan_amount_usd, taking into account the exchange rates.\n",
    "- *Check Against the Liquidation Threshold:* The current CR is compared to the liquidation threshold, represented as liquidation_threshold. If the current CR falls below this threshold or if the loan term has expired (elapsed_time >= loan_term_in_milliseconds), the protocol initiates the liquidation process.\n",
    "\n",
    "#### Based on the calculated CR and the evaluation criteria, the protocol determines whether the loan position is eligible for liquidation. The outcome may vary depending on the loan details and the current market conditions. When a loan is liquidated, the protocol collects the loan amount from the locked collateral value plus the liquidation fee. Any remaining collateral will be sent back to the borrower.\n",
    "\n",
    "</div>\n",
    "\n"
   ]
  },
  {
   "cell_type": "markdown",
   "metadata": {},
   "source": [
    "\n",
    "## <span style=\"color: #CCCCCC;\">Loan Position Details</span>"
   ]
  },
  {
   "cell_type": "code",
   "execution_count": 61,
   "metadata": {
    "dotnet_interactive": {
     "language": "fsharp"
    },
    "polyglot_notebook": {
     "kernelName": "fsharp"
    },
    "vscode": {
     "languageId": "fsharp"
    }
   },
   "outputs": [],
   "source": [
    "// amount to borrow and exchange rate\n",
    "let loan_amount = 120.0\n",
    "let loan_exchange_rate = 1.0\n",
    "\n",
    "// amount of collateral and exchange rate\n",
    "let asset_a_collateral = 350.0\n",
    "let asset_a_exchange_rate = 0.45\n",
    "let asset_b_collateral = 500.0\n",
    "let asset_b_exchange_rate = 0.03\n",
    "\n",
    "// loan term\n",
    "let loan_term = 1_209_600_000\n",
    "\n",
    "// elapsed time\n",
    "let elapsed_time = 1_209_600_000"
   ]
  },
  {
   "cell_type": "markdown",
   "metadata": {},
   "source": [
    "\n",
    "## <span style=\"color: #CCCCCC;\">Liquidation Check</span>"
   ]
  },
  {
   "cell_type": "code",
   "execution_count": 62,
   "metadata": {
    "dotnet_interactive": {
     "language": "fsharp"
    },
    "polyglot_notebook": {
     "kernelName": "fsharp"
    },
    "vscode": {
     "languageId": "fsharp"
    }
   },
   "outputs": [
    {
     "name": "stdout",
     "output_type": "stream",
     "text": [
      "LOAN DETAILS\n",
      "Loan Amount: 120.000000 USD\n",
      "Asset A Collateral: 157.500000 USD\n",
      "Asset B Collateral: 15.000000 USD\n",
      "Total Collateral: 172.500000 USD\n",
      "Loan to Value: 69.565217 %\n",
      "\n",
      "Current Collateral Ratio: 1.437500\n",
      "Is Expired: false\n",
      "Is Below Liquidation Threshold: true\n",
      "Liquidation Threshold: 1.500000\n",
      "\n",
      "Can be liquidated: true\n"
     ]
    }
   ],
   "source": [
    "// calculate usd value\n",
    "let asset_a_usd = asset_a_collateral * asset_a_exchange_rate\n",
    "let asset_b_usd = asset_b_collateral * asset_b_exchange_rate\n",
    "let total_collateral = asset_a_usd + asset_b_usd\n",
    "let loan_amount_usd = loan_amount * loan_exchange_rate\n",
    "let loan_to_value = (loan_amount_usd / total_collateral) * 100.0\n",
    "\n",
    "printf \"LOAN DETAILS\\n\"\n",
    "printf \"Loan Amount: %f USD\\n\" loan_amount_usd\n",
    "printf \"Asset A Collateral: %f USD\\n\" asset_a_usd\n",
    "printf \"Asset B Collateral: %f USD\\n\" asset_b_usd\n",
    "printf \"Total Collateral: %f USD\\n\" total_collateral\n",
    "printf \"Loan to Value: %f %%\\n\\n\" loan_to_value\n",
    "\n",
    "let can_be_liquidated = is_liquidatable asset_a_collateral asset_a_exchange_rate asset_b_collateral asset_b_exchange_rate loan_amount loan_exchange_rate loan_term elapsed_time\n",
    "\n",
    "printf \"Can be liquidated: %b\\n\" can_be_liquidated"
   ]
  }
 ],
 "metadata": {
  "kernelspec": {
   "display_name": ".NET (F#)",
   "language": "F#",
   "name": ".net-fsharp"
  },
  "language_info": {
   "file_extension": ".fs",
   "mimetype": "text/x-fsharp",
   "name": "F#",
   "pygments_lexer": "fsharp",
   "version": "8.0"
  },
  "polyglot_notebook": {
   "kernelInfo": {
    "defaultKernelName": "fsharp",
    "items": [
     {
      "aliases": [],
      "name": "fsharp"
     }
    ]
   }
  }
 },
 "nbformat": 4,
 "nbformat_minor": 2
}

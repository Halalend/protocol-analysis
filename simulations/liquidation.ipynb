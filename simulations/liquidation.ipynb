{
 "cells": [
  {
   "cell_type": "markdown",
   "metadata": {},
   "source": [
    "# **Liquidating a loan position**\n",
    "\n",
    "##### The liquidation process for loan positions in the Halalend protocol is fully automated and managed by a component known as the Batcher. This component has multiple responsibilities, including processing Collateralized Debt Positions (CDPs), managing repayments, and overseeing the addition of liquidity. A key function of the Batcher is to monitor loan positions vigilantly. It automatically identifies any loan positions that have fallen below the protocol's liquidation threshold or those that have exceeded the set loan term limit. Upon detecting such cases, the Batcher proceeds with the necessary steps to secure the loan positions, ensuring the stability and security of the protocol's financial operations.\n",
    "\n",
    "## Qualification Criteria for liquidation:\n",
    "\n",
    "- **Collateral Ratio:** This will be compared to the liquidation theshold. If it's below then the loan position is liquidated.\n",
    "- **Fees:** Loan positions are subject to liquidation fees. \n",
    "\n",
    "## Key Protocol Parameters:\n",
    "\n",
    "- **Liquidation Threshold:** Determines the required overcollateralization for loan approval.\n",
    "- **Liquidation Fee:** A fee charged for using the Halalend Protocol to create a loan position.\n",
    "- **Loan Term:** Specifies how long the loan will last before it needs to be repaid.\n",
    "\n",
    "## On-chain Validation:\n",
    "\n",
    "- **Lending Validator:** A smart contract on Cardano that validates liquidation requests and ensures they comply with protocol rules.\n",
    "- **Protocol Parameters UTXO:** Stores the protocol's operational parameters and lending criteria for reference in transactions.\n",
    "- **Oracle/DEX Liquidity Pool UTXO:** Provides current exchange rates for collateral and loan assets, to accurately check if the loan position is below the liquidation threshold.\n",
    "- **Collateral Validator:** A smart contract on Cardano that validates if the collateral utxo can be unlocked.\n",
    "\n",
    "\n",
    "## Off-chain Infrastructure:\n",
    "\n",
    "- **Batcher:** An essential background service that batches transactions for processing. This component is crucial due to Cardano's UTXO model, where a UTXO can only be consumed by one transaction in a block. The batcher ensures multiple transactions can be processed efficiently."
   ]
  },
  {
   "cell_type": "markdown",
   "metadata": {},
   "source": [
    "### Assuming the following Protocol Parameters:"
   ]
  },
  {
   "cell_type": "code",
   "execution_count": 17,
   "metadata": {
    "dotnet_interactive": {
     "language": "fsharp"
    },
    "polyglot_notebook": {
     "kernelName": "fsharp"
    },
    "vscode": {
     "languageId": "polyglot-notebook"
    }
   },
   "outputs": [],
   "source": [
    "let LIQUIDATION_THRESHOLD = 1.2\n",
    "let LIQUIDATION_FEE = 10.0\n",
    "let LOAN_TERM = 14 * 24 * 60 * 60 * 1000   // 14 days in milliseconds"
   ]
  },
  {
   "cell_type": "markdown",
   "metadata": {},
   "source": [
    "### And the following calculations:\n",
    "\n",
    "##### *Note: these are simplified calculations*"
   ]
  },
  {
   "cell_type": "code",
   "execution_count": 18,
   "metadata": {
    "dotnet_interactive": {
     "language": "fsharp"
    },
    "polyglot_notebook": {
     "kernelName": "fsharp"
    },
    "vscode": {
     "languageId": "polyglot-notebook"
    }
   },
   "outputs": [],
   "source": [
    "open System.Collections.Generic\n",
    "\n",
    "// Calculates the current collateral ratio of a loan position given the exchange rates of the collateral and the loan\n",
    "let calc_collateral_ratio total_collateral_value_in_usd total_loan_amount_in_usd = total_collateral_value_in_usd / total_loan_amount_in_usd\n",
    "\n",
    "// Function to calculate total value for a single asset\n",
    "let calc_collateral_asset_value (asset: IDictionary<string, obj>) =\n",
    "    let exchangeRate = unbox<float>(asset.[\"exchange_rate\"])\n",
    "    let amount = unbox<float>(asset.[\"amount\"])\n",
    "    exchangeRate * amount\n",
    "\n",
    "// Function to check for liquidation\n",
    "let check_liquidation total_collateral_value_in_usd total_loan_amount_in_usd elapsed_time_in_ms =\n",
    "    let collateral_ratio = calc_collateral_ratio total_collateral_value_in_usd total_loan_amount_in_usd\n",
    "\n",
    "    printf \"Collateral ratio: %f\\n\" collateral_ratio\n",
    "    printf \"Liquidataion threshold: %f\\n\\n\" LIQUIDATION_THRESHOLD\n",
    "\n",
    "    if collateral_ratio < LIQUIDATION_THRESHOLD || elapsed_time_in_ms > LOAN_TERM   then\n",
    "        true\n",
    "    else\n",
    "        false\n",
    "    "
   ]
  },
  {
   "cell_type": "markdown",
   "metadata": {},
   "source": [
    "### Now we need to define the loan parameters and current exchange rates and check for eligibility for liquidation"
   ]
  },
  {
   "cell_type": "code",
   "execution_count": 19,
   "metadata": {
    "dotnet_interactive": {
     "language": "fsharp"
    },
    "polyglot_notebook": {
     "kernelName": "fsharp"
    },
    "vscode": {
     "languageId": "polyglot-notebook"
    }
   },
   "outputs": [
    {
     "name": "stdout",
     "output_type": "stream",
     "text": [
      "Total collateral value: 1500.000000\n",
      "Loan amount: 1000.000000\n",
      "\n",
      "Collateral ratio: 1.500000\n",
      "Liquidataion threshold: 1.200000\n",
      "\n",
      "The loan position is not liquidatable\n"
     ]
    }
   ],
   "source": [
    "// These are the collaterals sent by the borrower to the contract\n",
    "let collateral_assets = \n",
    "    [(\"iUSD\", dict [(\"exchange_rate\", box 1.0); (\"amount\", box 1000.0)])\n",
    "     (\"halalend\", dict [(\"exchange_rate\", box 0.4); (\"amount\", box 1000.0)])\n",
    "     (\"hosky\", dict [(\"exchange_rate\", box 0.001); (\"amount\", box 100000.0)])]\n",
    "    |> Map.ofList\n",
    "\n",
    "let elapsed_time = 13 * 24 * 60 * 60 * 1000   // 14 days in milliseconds\n",
    "let collateral_asset_list = collateral_assets |> Map.toList |> List.map fst\n",
    "let total_collateral_value_usd = \n",
    "    collateral_assets\n",
    "    |> Map.map (fun _ asset -> calc_collateral_asset_value asset)  // Calculate total for each asset\n",
    "    |> Map.fold (fun acc _ value -> acc + value) 0.0       // Sum up all totals\n",
    "let loan_usd = 1000.0 // this is the amount of the loan in USD\n",
    "\n",
    "printf \"Total collateral value: %f\\n\" total_collateral_value_usd\n",
    "printf \"Loan amount: %f\\n\\n\" loan_usd\n",
    "\n",
    "let is_liquidatable = check_liquidation total_collateral_value_usd loan_usd elapsed_time\n",
    "\n",
    "if is_liquidatable then\n",
    "    printf \"The loan position is liquidatable\\n\"\n",
    "else\n",
    "    printf \"The loan position is not liquidatable\\n\"\n"
   ]
  }
 ],
 "metadata": {
  "kernelspec": {
   "display_name": ".NET (F#)",
   "language": "F#",
   "name": ".net-fsharp"
  },
  "language_info": {
   "file_extension": ".fs",
   "mimetype": "text/x-fsharp",
   "name": "F#",
   "pygments_lexer": "fsharp",
   "version": "8.0"
  },
  "polyglot_notebook": {
   "kernelInfo": {
    "defaultKernelName": "fsharp",
    "items": [
     {
      "aliases": [],
      "name": "fsharp"
     }
    ]
   }
  }
 },
 "nbformat": 4,
 "nbformat_minor": 2
}

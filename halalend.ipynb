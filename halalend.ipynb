{
 "cells": [
  {
   "cell_type": "markdown",
   "metadata": {},
   "source": [
    "# **Calculations & Important Concepts**\n",
    "\n",
    "---\n",
    "\n",
    "## **<span style=\"color: #CCCCCC;\">Health Factor</span>**\n",
    "\n",
    "$$\\text{Health Factor = }\\frac{\\text{Current Value of Collateral}}{\\text{Total Debt Owned} \\times \\text{Liquidation Threshold}}$$\n",
    "\n",
    "Where:\n",
    "\n",
    "- **Current Value of Collateral**: The market value of the assets used as collateral.\n",
    "- **Total Debt Owed**: The sum of the borrowed amount and any accrued interest or fees.\n",
    "- **Liquidation Threshold**: The ratio at which the loan is considered for liquidation.\n",
    "\n",
    "A **Health Factor** greater than 1 implies a lower risk of liquidation.\n",
    "\n",
    "---\n",
    "\n",
    "## **<span style=\"color: #CCCCCC;\">Loan-to-Value(LTV) Ratio</span>** \n",
    "\n",
    "\n",
    "$$\\text{Loan-to-value Ratio = }\\frac{\\text{Borrowed Amount}}{\\text{Current Value of Collateral} \\times \\text{Minimum Collateral Ratio}}$$\n",
    "\n",
    "Where:\n",
    "\n",
    "- **Borrowed Amount**: The total amount of money borrowed, including any accrued interest or fees.\n",
    "- **Current Value of Collateral**: The market value of the assets used as collateral.\n",
    "- **Minimum Collateral Ratio (MCR)**: The minimum required collateral ratio specified by the lending platform.\n",
    "\n",
    "The higher the **LTV Ratio** the lower the risk for liquidation.\n",
    "\n",
    "---\n",
    "\n",
    "## **<span style=\"color: #CCCCCC;\">Maximum Loan-to-Value(LTV)</span>** \n",
    "\n",
    "\n",
    "$$\\text{Maximum Loan-to-value = }\\frac{\\text{1}}{\\text{Minimum Collateral Ratio}}$$\n",
    "\n",
    "Where:\n",
    "- **Minimum Collateral Ratio (MCR)**: The minimum required collateral ratio specified by the lending platform.\n",
    "\n",
    "The **Maximum LTV** is the maximum loanable amount for the collateral given.\n",
    "\n",
    "---\n",
    "\n",
    "## **<span style=\"color: #CCCCCC;\">Minimum Collateral Ratio (MCR)</span>** \n",
    "\n",
    "The minimum collateral ratio requirement to be eligible for a loan. This is a safety measure to ensure that loans are overcollateralized, reducing the risk of loss for the lender. A ratio of 1.5 means that the collateral must be worth at least 150% of the loan value. If it falls below 150% the loan becomes eligible for liquidation or if a separate liquidation threshold is set then it will be liquidated at that threshold.\n",
    "\n",
    "---\n",
    "\n",
    "## **<span style=\"color: #CCCCCC;\">Liquidation Threshold</span>** \n",
    "\n",
    "The threshold for liquidation expressed as a ratio; if the collateral ratio falls below this threshold. It's usually the same ratio as MCR or lower.\n",
    "\n",
    "---\n",
    "<br>\n",
    "<br>\n",
    "<br>\n",
    "\n",
    "\n",
    "\n"
   ]
  },
  {
   "cell_type": "markdown",
   "metadata": {},
   "source": [
    "# **Protocol Parameters**\n",
    "\n",
    "#### This refers to the configurable variables and settings that govern the protocol’s behavior, including collateralization ratios, liquidation thresholds, loan terms, reserve ratios, etc. These parameters are essential for defining the protocol’s rules and risk management. The following parameters are essential for our model:\n",
    "---\n",
    "\n",
    "- *<span style=\"color: #CCCCCC;\">Minimum Eligible Health Factor </span>* the minimum health factor allowed to avail loan.\n",
    "---\n",
    "- *<span style=\"color: #CCCCCC;\">Minimum Collateral Ratio (MCR) - ADA: </span>* This parameter specifies the minimum ratio of collateral (in ADA cryptocurrency) required relative to the loan amount to maintain the loan. If the collateral value falls below this ratio (unless there's a lower liquidation threshold) due to market fluctuations, the loan may become subject to liquidation to protect the lender from default risk.\n",
    "---\n",
    "- *<span style=\"color: #CCCCCC;\">Minimum Collateral Ratio (MCR) - Utility Token: </span>* Similar to the MCR for ADA, this parameter defines the minimum ratio of collateral required in a specific utility token relative to the loan amount. This ensures that loans backed by utility tokens maintain a sufficient collateral buffer to account for market volatility.\n",
    "---\n",
    "- *<span style=\"color: #CCCCCC;\">Minimum Loan Amount: </span>*: The minimum loan amount sets the lowest value of funds that can be borrowed through the protocol. This parameter ensures that loans are economically viable, taking into account the operational costs and the effort required to manage and monitor loans.\n",
    "---\n",
    "- *<span style=\"color: #CCCCCC;\">Maximum Loan Term: </span>*: This parameter defines the maximum duration for which a loan can be extended. It helps in managing the risk associated with long-term loans and ensures that loans are repaid within a reasonable timeframe, minimizing the exposure to prolonged market risks.\n",
    "---\n",
    "- *<span style=\"color: #CCCCCC;\">Protocol Usage Fee: </span>*: The Protocol Usage Fee is a fixed charge applied each time a loan is created or repaid within the protocol. This fee is designed to cover the costs associated with the loan's administration and the provision of the protocol's services.\n",
    "---\n",
    "- *<span style=\"color: #CCCCCC;\">Liquidation Penalty: </span>*: The liquidation penalty is a fee imposed on the collateral if the loan is liquidated due to a breach of the loan terms, such as falling below the minimum collateral ratio. This penalty acts as a deterrent against risky borrowing behavior and compensates the lender for the additional risk and effort involved in liquidating the collateral.\n",
    "---\n",
    "- *<span style=\"color: #CCCCCC;\">Reserve Threshold: </span>*: TBD\n",
    "---\n",
    "- *<span style=\"color: #CCCCCC;\">Reserve Ratio: </span>*: TBD\n",
    "---\n",
    "<br>\n",
    "<br>\n",
    "<br>\n"
   ]
  },
  {
   "cell_type": "markdown",
   "metadata": {},
   "source": [
    "\n",
    "## <span style=\"color: #CCCCCC;\">Protocol Parameter Values</span>"
   ]
  },
  {
   "cell_type": "code",
   "execution_count": 277,
   "metadata": {
    "dotnet_interactive": {
     "language": "fsharp"
    },
    "polyglot_notebook": {
     "kernelName": "fsharp"
    },
    "vscode": {
     "languageId": "fsharp"
    }
   },
   "outputs": [],
   "source": [
    "// assuming currently only ADA is allowed for collateral, and native token is not yet in use \n",
    "let minimumCollateralRatio = 1.5\n",
    "let liquidationThreshold = 1.2\n",
    "let minimumLoanAmount = 100.0\n",
    "let maximumLoanToValueRatio = 1.0 / minimumCollateralRatio\n",
    "let maximumLoanTerm = 30.0 //days\n",
    "let liquidationFee = 10.0 // USDT\n",
    "let protocolUsageFee = 5.0 // USDT\n",
    "let minimumEligibleHealthFactor = 1.2"
   ]
  },
  {
   "cell_type": "markdown",
   "metadata": {},
   "source": [
    "\n",
    "## <span style=\"color: #CCCCCC;\">Calculations</span>"
   ]
  },
  {
   "cell_type": "code",
   "execution_count": 278,
   "metadata": {
    "dotnet_interactive": {
     "language": "fsharp"
    },
    "polyglot_notebook": {
     "kernelName": "fsharp"
    },
    "vscode": {
     "languageId": "fsharp"
    }
   },
   "outputs": [],
   "source": [
    "let calculateHealthFactor collateralValue loanAmount  = collateralValue / (loanAmount * liquidationThreshold)\n",
    "let calculateLoanToValueRatio loanAmount collateralValue = loanAmount / (collateralValue * minimumCollateralRatio)\n",
    "let calculateMaxLoanToValueAmount collateralValue = collateralValue * maximumLoanToValueRatio\n",
    "\n",
    "let canAvailLoan collateralValue totalLoanAmount =\n",
    "    let healthFactor = calculateHealthFactor collateralValue totalLoanAmount\n",
    "    let loanToValueRatio = calculateLoanToValueRatio totalLoanAmount collateralValue\n",
    "    let maxLoanToValueAmount = calculateMaxLoanToValueAmount collateralValue\n",
    "\n",
    "    printf \"Health Factor: %f\\n\" healthFactor\n",
    "    printf \"Loan To Value Ratio: %f\\n\" loanToValueRatio\n",
    "    printf \"Max Loan To Value Amount: %f\\n\" maxLoanToValueAmount\n",
    "\n",
    "    healthFactor >= minimumEligibleHealthFactor && loanToValueRatio < maxLoanToValueAmount"
   ]
  },
  {
   "cell_type": "markdown",
   "metadata": {},
   "source": [
    "\n",
    "## <span style=\"color: #CCCCCC;\">Variables</span>"
   ]
  },
  {
   "cell_type": "code",
   "execution_count": 279,
   "metadata": {
    "dotnet_interactive": {
     "language": "fsharp"
    },
    "polyglot_notebook": {
     "kernelName": "fsharp"
    },
    "vscode": {
     "languageId": "fsharp"
    }
   },
   "outputs": [],
   "source": [
    "let ada_to_usdt = 0.5"
   ]
  },
  {
   "cell_type": "markdown",
   "metadata": {},
   "source": [
    "\n",
    "## <span style=\"color: #CCCCCC;\">Borrow</span>"
   ]
  },
  {
   "cell_type": "code",
   "execution_count": 280,
   "metadata": {
    "dotnet_interactive": {
     "language": "fsharp"
    },
    "polyglot_notebook": {
     "kernelName": "fsharp"
    },
    "vscode": {
     "languageId": "fsharp"
    }
   },
   "outputs": [
    {
     "data": {
      "text/html": [
       "<div><div></div><div></div><div><strong>Installed Packages</strong><ul><li><span>Plotly.NET, 2.0.0-preview.8</span></li><li><span>Plotly.NET.Interactive, 2.0.0-preview.8</span></li></ul></div></div>"
      ]
     },
     "metadata": {},
     "output_type": "display_data"
    },
    {
     "name": "stderr",
     "output_type": "stream",
     "text": [
      "\n",
      "input.fsx (36,5)-(48,10) typecheck error The member or object constructor 'WithAttributes' does not take 0 argument(s). An overload was found taking 1 arguments.\n",
      "\n"
     ]
    },
    {
     "ename": "Error",
     "evalue": "compilation error",
     "output_type": "error",
     "traceback": []
    }
   ],
   "source": [
    "#r \"nuget: Plotly.NET, 2.0.0-preview.8\"\n",
    "#r \"nuget: Plotly.NET.Interactive, 2.0.0-preview.8\"\n",
    "open Plotly.NET\n",
    "\n",
    "// Fixed loan and collateral values\n",
    "let loanAmount = 1333.0 // USD\n",
    "let collateralValue = 4000.0 // ADA\n",
    "\n",
    "// Simulate a range of ADA to USD exchange rates\n",
    "let adaToUsdtRates = [1.0 .. 0.1 .. 2.0]\n",
    "\n",
    "// Calculate health factors and liquidation points\n",
    "let dataPoints =\n",
    "    adaToUsdtRates\n",
    "    |> List.map (fun rate ->\n",
    "        let collateralValueInUSD = collateralValue * rate\n",
    "        let healthFactor = collateralValueInUSD / (loanAmount * liquidationThreshold)\n",
    "        let loanToValueRatio = loanAmount / (collateralValueInUSD * minimumCollateralRatio)\n",
    "        let liquidationPoint = if healthFactor < minimumEligibleHealthFactor then Some(loanToValueRatio) else None\n",
    "        (rate, healthFactor, loanToValueRatio, liquidationPoint)\n",
    "    )\n",
    "\n",
    "// Extract data for plotting\n",
    "let xValues = dataPoints |> List.map (fun (rate, _, _, _) -> rate)\n",
    "let healthFactors = dataPoints |> List.map (fun (_, healthFactor, _, _) -> healthFactor)\n",
    "let loanToValueRatios = dataPoints |> List.map (fun (_, _, loanToValueRatio, _) -> loanToValueRatio)\n",
    "let liquidationPoints = dataPoints |> List.choose (fun (_, _, _, point) -> point)\n",
    "\n",
    "// Create scatter plots for health factors and liquidation points\n",
    "let healthFactorTrace =\n",
    "    Scatter(x = xValues, y = healthFactors, mode = \"lines+markers\", name = \"Health Factor\")\n",
    "\n",
    "let liquidationPointTrace =\n",
    "    Scatter(x = xValues, y = liquidationPoints, mode = \"markers\", name = \"Liquidation Point\", yaxis = \"y2\")\n",
    "\n",
    "// Layout configuration\n",
    "let layout =\n",
    "    Layout()\n",
    "        .WithAttributes( // Provide an empty dictionary for attributes\n",
    "            dict [\n",
    "                // Set layout properties within the dictionary\n",
    "                \"title\", \"Risk of Liquidation vs. ADA to USD Exchange Rate\"\n",
    "                \"xaxis\", Xaxis(title = \"ADA to USD Exchange Rate\")\n",
    "                \"yaxis\", Yaxis(title = \"Health Factor\")\n",
    "                \"yaxis2\", Yaxis(\n",
    "                    title = \"Liquidation Point\",\n",
    "                    side = StyleParam.Side.Right,\n",
    "                    overlaying = \"y\",\n",
    "                    showgrid = false,\n",
    "                    zeroline = false\n",
    "                )\n",
    "            ]\n",
    "        )\n",
    "\n",
    "\n",
    "// Create the chart\n",
    "[healthFactorTrace; liquidationPointTrace]\n",
    "|> Chart.Plot\n",
    "|> Chart.WithLayout layout\n",
    "|> Chart.WithSize (800, 400)"
   ]
  },
  {
   "cell_type": "code",
   "execution_count": null,
   "metadata": {
    "dotnet_interactive": {
     "language": "fsharp"
    },
    "polyglot_notebook": {
     "kernelName": "fsharp"
    },
    "vscode": {
     "languageId": "fsharp"
    }
   },
   "outputs": [],
   "source": []
  },
  {
   "cell_type": "code",
   "execution_count": null,
   "metadata": {
    "dotnet_interactive": {
     "language": "fsharp"
    },
    "polyglot_notebook": {
     "kernelName": "fsharp"
    },
    "vscode": {
     "languageId": "fsharp"
    }
   },
   "outputs": [],
   "source": []
  }
 ],
 "metadata": {
  "kernelspec": {
   "display_name": ".NET (F#)",
   "language": "F#",
   "name": ".net-fsharp"
  },
  "language_info": {
   "file_extension": ".fs",
   "mimetype": "text/x-fsharp",
   "name": "F#",
   "pygments_lexer": "fsharp",
   "version": "8.0"
  },
  "polyglot_notebook": {
   "kernelInfo": {
    "defaultKernelName": "csharp",
    "items": [
     {
      "aliases": [],
      "name": "csharp"
     },
     {
      "aliases": [],
      "name": "fsharp"
     }
    ]
   }
  }
 },
 "nbformat": 4,
 "nbformat_minor": 2
}

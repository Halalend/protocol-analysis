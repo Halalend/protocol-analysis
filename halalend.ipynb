{
 "cells": [
  {
   "cell_type": "markdown",
   "metadata": {},
   "source": [
    "### Protocol Parameters"
   ]
  },
  {
   "cell_type": "markdown",
   "metadata": {},
   "source": [
    "# Health Factor Formula\n",
    "\n",
    "The Health Factor formula is as follows:\n",
    "\n",
    "$$\\text{Health Factor = }\\frac{\\text{Current Value of Collateral}}{\\text{Total Debt Owned} \\times \\text{Liquidation Threshold}}$$\n",
    "\n",
    "Where:\n",
    "\n",
    "- **Current Value of Collateral**: The market value of the assets used as collateral.\n",
    "- **Total Debt Owed**: The sum of the borrowed amount and any accrued interest or fees.\n",
    "- **Liquidation Threshold**: The ratio at which the loan is considered for liquidation.\n",
    "\n",
    "A **Health Factor** greater than 1 implies a lower risk of liquidation."
   ]
  },
  {
   "cell_type": "code",
   "execution_count": 100,
   "metadata": {},
   "outputs": [],
   "source": [
    "# The minimum collateral ratio requirement to be eligible for a loan. This is a safety measure to ensure\n",
    "# that loans are overcollateralized, reducing the risk of loss for the lender. A ratio of 1.5 means that\n",
    "# the collateral must be worth at least 150% of the loan value.\n",
    "minimum_collateral_ratio = 1.5\n",
    "\n",
    "# The maximum loan-to-value ratio, which is the maximum percentage of the collateral value that can be\n",
    "# borrowed. A ratio of 0.5 means that the maximum loan amount is 50% of the collateral value.\n",
    "maximum_loan_to_value = 1 / minimum_collateral_ratio\n",
    "\n",
    "# Fixed fee charged for each loan transaction, representing the cost of using the protocol. This fee is\n",
    "# in USD and is added to the borrowed amount when calculating the need for collateral.\n",
    "protocol_usage_fee = 5  # USD\n",
    "\n",
    "# The threshold for liquidation expressed as a ratio; if the collateral ratio falls below this threshold\n",
    "# (90% in this case), the loan becomes eligible for liquidation. This is a safety mechanism to protect\n",
    "# the liquidity pool from losses due to undercollateralized loans.\n",
    "liquidity_threshold = 0.9  # 90%"
   ]
  },
  {
   "cell_type": "markdown",
   "metadata": {},
   "source": [
    "### Calculations"
   ]
  },
  {
   "cell_type": "code",
   "execution_count": 84,
   "metadata": {},
   "outputs": [],
   "source": [
    "# Function to calculate the collateral ratio for a given amount\n",
    "def calculate_collateral_ratio(collateral_value, borrowed_value, other_fees):\n",
    "    # The collateral ratio is calculated by dividing the total value of the collateral\n",
    "    # by the sum of the borrowed value and any other associated fees.\n",
    "    # This ratio indicates the level of overcollateralization of the loan.\n",
    "    return collateral_value / (borrowed_value + other_fees)\n",
    "\n",
    "# Function to calculate the minimum amount of collateral required\n",
    "def calculate_minimum_collateral_amount(borrowed_value, other_fees, minimum_collateral_ratio, ada_price):\n",
    "    # First, calculate the total amount required to be covered by collateral,\n",
    "    # including the borrowed value and other fees, and then apply the minimum collateral ratio.\n",
    "    # This gives the minimum USD value that needs to be covered by collateral.\n",
    "    minimum_amount = (borrowed_value + other_fees) * minimum_collateral_ratio\n",
    "    \n",
    "    # To find the minimum amount of ADA required, divide the minimum USD value\n",
    "    # by the current ADA price. This conversion is necessary because the collateral\n",
    "    # is provided in ADA, but the loan and fees might be denominated in another currency (e.g., USDT).\n",
    "    return minimum_amount * (1 / ada_price)\n",
    "\n",
    "def calculate_loan_to_value(loan_amount, collateral_amount, ada_price):\n",
    "    # The loan-to-value ratio is calculated by dividing the loan amount by the collateral amount.\n",
    "    # This ratio indicates the level of overcollateralization of the loan.\n",
    "    return loan_amount / (collateral_amount * ada_price)\n",
    "\n",
    "# Function to determine if a loan should be liquidated\n",
    "def is_liquidated(collateral_value, borrowed_value, other_fees, minimum_collateral_ratio):\n",
    "    # This function checks if the current collateral ratio falls below the minimum required ratio.\n",
    "    # If the current collateral ratio is less than the minimum collateral ratio, the loan is undercollateralized,\n",
    "    # indicating that the loan is at risk and potentially subject to liquidation.\n",
    "    return calculate_collateral_ratio(collateral_value, borrowed_value, other_fees) < minimum_collateral_ratio\n",
    "\n",
    "def calculate_loan_to_value(loan_amount, collateral_amount, ada_to_usd):\n",
    "    return (loan_amount / (collateral_amount * ada_to_usd)) \n",
    "\n",
    "def can_be_liquidated_due_to_high_ltv(loan_to_value, maximum_loan_to_value):\n",
    "    return loan_to_value > maximum_loan_to_value"
   ]
  },
  {
   "cell_type": "markdown",
   "metadata": {},
   "source": [
    "### Sample Loan Position"
   ]
  },
  {
   "cell_type": "code",
   "execution_count": 99,
   "metadata": {},
   "outputs": [
    {
     "name": "stdout",
     "output_type": "stream",
     "text": [
      "Collateral Ratio:  2.7\n",
      "Ada to usdt exchange rate:  0.9\n",
      "Minimum Collateral Amount:  841.6666666666667\n",
      "Actual collateral amount:  1515\n",
      "Maximum Laon to Value:  0.6666666666666666\n",
      "Loan to Value:  0.3667033370003667\n",
      "Can be liquidated due to high ltv:  False\n",
      "Is Liquidated:  False\n"
     ]
    }
   ],
   "source": [
    "ada_collateral = 1515 \n",
    "ada_to_usd = 0.9\n",
    "loan_amount = 500 # USD\n",
    "collateral_ratio = calculate_collateral_ratio(ada_collateral * ada_to_usd, loan_amount, protocol_usage_fee)\n",
    "minimum_collateral_amount = calculate_minimum_collateral_amount(loan_amount, protocol_usage_fee, minimum_collateral_ratio, ada_to_usd)\n",
    "loan_to_value = calculate_loan_to_value(loan_amount, ada_collateral, ada_to_usd)\n",
    "\n",
    "print(\"Collateral Ratio: \", collateral_ratio)\n",
    "print(\"Ada to usdt exchange rate: \", ada_to_usd)\n",
    "print(\"Minimum Collateral Amount: \", minimum_collateral_amount)\n",
    "print(\"Actual collateral amount: \", ada_collateral)\n",
    "print(\"Maximum Laon to Value: \", maximum_loan_to_value)\n",
    "print(\"Loan to Value: \", loan_to_value)\n",
    "print(\"Can be liquidated due to high ltv: \", can_be_liquidated_due_to_high_ltv(loan_to_value, maximum_loan_to_value))\n",
    "print(\"Is Liquidated: \", is_liquidated(ada_collateral * ada_to_usd, loan_amount, protocol_usage_fee, minimum_collateral_ratio))"
   ]
  },
  {
   "cell_type": "code",
   "execution_count": 101,
   "metadata": {},
   "outputs": [
    {
     "ename": "ModuleNotFoundError",
     "evalue": "No module named 'matplotlib'",
     "output_type": "error",
     "traceback": [
      "\u001b[0;31m---------------------------------------------------------------------------\u001b[0m",
      "\u001b[0;31mModuleNotFoundError\u001b[0m                       Traceback (most recent call last)",
      "Cell \u001b[0;32mIn[101], line 1\u001b[0m\n\u001b[0;32m----> 1\u001b[0m \u001b[38;5;28;01mimport\u001b[39;00m \u001b[38;5;21;01mmatplotlib\u001b[39;00m\u001b[38;5;21;01m.\u001b[39;00m\u001b[38;5;21;01mpyplot\u001b[39;00m \u001b[38;5;28;01mas\u001b[39;00m \u001b[38;5;21;01mplt\u001b[39;00m\n\u001b[1;32m      2\u001b[0m \u001b[38;5;28;01mimport\u001b[39;00m \u001b[38;5;21;01mpandas\u001b[39;00m \u001b[38;5;28;01mas\u001b[39;00m \u001b[38;5;21;01mpd\u001b[39;00m\n\u001b[1;32m      4\u001b[0m \u001b[38;5;66;03m# Create a DataFrame for visualization\u001b[39;00m\n",
      "\u001b[0;31mModuleNotFoundError\u001b[0m: No module named 'matplotlib'"
     ]
    }
   ],
   "source": [
    "import matplotlib.pyplot as plt\n",
    "import pandas as pd\n",
    "\n",
    "# Create a DataFrame for visualization\n",
    "data = {\n",
    "    \"Metric\": [\"Collateral Ratio\", \"Ada to USDT Rate\", \"Minimum Collateral Amount\", \n",
    "               \"Actual Collateral Amount\", \"Maximum Loan to Value\", \"Loan to Value\"],\n",
    "    \"Value\": [collateral_ratio, ada_to_usd, minimum_collateral_amount, \n",
    "              ada_collateral * ada_to_usd, maximum_loan_to_value, loan_to_value]\n",
    "}\n",
    "\n",
    "df = pd.DataFrame(data)\n",
    "\n",
    "# Plotting\n",
    "plt.figure(figsize=(10, 6))\n",
    "plt.barh(df['Metric'], df['Value'], color='skyblue')\n",
    "plt.xlabel('Value')\n",
    "plt.title('Loan Metrics')\n",
    "plt.grid(axis='x')\n",
    "\n",
    "# Display the values on the bars\n",
    "for index, value in enumerate(df['Value']):\n",
    "    plt.text(value, index, f\"{value:.2f}\")\n",
    "\n",
    "plt.show()"
   ]
  }
 ],
 "metadata": {
  "kernelspec": {
   "display_name": "Python 3",
   "language": "python",
   "name": "python3"
  },
  "language_info": {
   "codemirror_mode": {
    "name": "ipython",
    "version": 3
   },
   "file_extension": ".py",
   "mimetype": "text/x-python",
   "name": "python",
   "nbconvert_exporter": "python",
   "pygments_lexer": "ipython3",
   "version": "3.11.5"
  }
 },
 "nbformat": 4,
 "nbformat_minor": 2
}

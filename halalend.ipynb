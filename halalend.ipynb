{
 "cells": [
  {
   "cell_type": "markdown",
   "metadata": {},
   "source": [
    "### Protocol Parameters"
   ]
  },
  {
   "cell_type": "code",
   "execution_count": 80,
   "metadata": {},
   "outputs": [],
   "source": [
    "# The minimum collateral ratio requirement to be eligible for a loan. This is a safety measure to ensure\n",
    "# that loans are overcollateralized, reducing the risk of loss for the lender. A ratio of 1.5 means that\n",
    "# the collateral must be worth at least 150% of the loan value.\n",
    "minimum_collateral_ratio = 1.5\n",
    "\n",
    "# The maximum loan-to-value ratio, which is the maximum percentage of the collateral value that can be\n",
    "# borrowed. A ratio of 0.5 means that the maximum loan amount is 50% of the collateral value.\n",
    "maximum_loan_to_value = 1 / minimum_collateral_ratio\n",
    "\n",
    "# Fixed fee charged for each loan transaction, representing the cost of using the protocol. This fee is\n",
    "# in USD and is added to the borrowed amount when calculating the need for collateral.\n",
    "protocol_usage_fee = 5  # USD\n",
    "\n",
    "# The total amount of funds available for lending in the liquidity pool, denominated in USD.\n",
    "# This pool decreases as loans are issued and increases as loans are repaid.\n",
    "liquidity_pool = 30_000  # USD\n",
    "\n",
    "# The total value of collateral held within the protocol, denominated in ADA. This is the sum of all\n",
    "# collateral from all open loans.\n",
    "total_collateral = 100_000  # ADA\n",
    "\n",
    "# The threshold for liquidation expressed as a ratio; if the collateral ratio falls below this threshold\n",
    "# (90% in this case), the loan becomes eligible for liquidation. This is a safety mechanism to protect\n",
    "# the liquidity pool from losses due to undercollateralized loans.\n",
    "liquidity_threshold = 0.9  # 90%"
   ]
  },
  {
   "cell_type": "markdown",
   "metadata": {},
   "source": [
    "### Calculations"
   ]
  },
  {
   "cell_type": "code",
   "execution_count": 78,
   "metadata": {},
   "outputs": [],
   "source": [
    "# Function to calculate the collateral ratio for a given amount\n",
    "def calculate_collateral_ratio(collateral_value, borrowed_value, other_fees):\n",
    "    # The collateral ratio is calculated by dividing the total value of the collateral\n",
    "    # by the sum of the borrowed value and any other associated fees.\n",
    "    # This ratio indicates the level of overcollateralization of the loan.\n",
    "    return collateral_value / (borrowed_value + other_fees)\n",
    "\n",
    "# Function to calculate the minimum amount of collateral required\n",
    "def calculate_minimum_collateral_amount(borrowed_value, other_fees, minimum_collateral_ratio, ada_price):\n",
    "    # First, calculate the total amount required to be covered by collateral,\n",
    "    # including the borrowed value and other fees, and then apply the minimum collateral ratio.\n",
    "    # This gives the minimum USD value that needs to be covered by collateral.\n",
    "    minimum_amount = (borrowed_value + other_fees) * minimum_collateral_ratio\n",
    "    \n",
    "    # To find the minimum amount of ADA required, divide the minimum USD value\n",
    "    # by the current ADA price. This conversion is necessary because the collateral\n",
    "    # is provided in ADA, but the loan and fees might be denominated in another currency (e.g., USDT).\n",
    "    return minimum_amount * (1 / ada_price)\n",
    "\n",
    "def calculate_loan_to_value(loan_amount, collateral_amount, ada_price):\n",
    "    # The loan-to-value ratio is calculated by dividing the loan amount by the collateral amount.\n",
    "    # This ratio indicates the level of overcollateralization of the loan.\n",
    "    return loan_amount / (collateral_amount * ada_price)\n",
    "\n",
    "# Function to determine if a loan should be liquidated\n",
    "def is_liquidated(collateral_value, borrowed_value, other_fees, minimum_collateral_ratio):\n",
    "    # This function checks if the current collateral ratio falls below the minimum required ratio.\n",
    "    # If the current collateral ratio is less than the minimum collateral ratio, the loan is undercollateralized,\n",
    "    # indicating that the loan is at risk and potentially subject to liquidation.\n",
    "    return calculate_collateral_ratio(collateral_value, borrowed_value, other_fees) < minimum_collateral_ratio\n",
    "\n",
    "def calculate_loan_to_value(loan_amount, collateral_amount, ada_to_usd):\n",
    "    return (loan_amount / (collateral_amount * ada_to_usd)) * 100\n",
    "\n",
    "def can_be_liquidated_due_to_high_ltv(loan_to_value, maximum_loan_to_value):\n",
    "    return loan_to_value > maximum_loan_to_value"
   ]
  },
  {
   "cell_type": "markdown",
   "metadata": {},
   "source": [
    "### Sample Collateral Ratio"
   ]
  },
  {
   "cell_type": "code",
   "execution_count": 81,
   "metadata": {},
   "outputs": [
    {
     "name": "stdout",
     "output_type": "stream",
     "text": [
      "Collateral Ratio:  0.9\n",
      "Ada to usdt exchange rate:  0.3\n",
      "Minimum Collateral Amount:  2525.0\n",
      "Loan to Value:  110.01100110011002\n",
      "Can be liquidated due to high ltv:  True\n",
      "Is Liquidated:  True\n"
     ]
    }
   ],
   "source": [
    "ada_collateral = 1515 \n",
    "ada_to_usd = 0.3 \n",
    "loan_amount = 500 # USD\n",
    "collateral_ratio = calculate_collateral_ratio(ada_collateral * ada_to_usd, loan_amount, protocol_usage_fee)\n",
    "minimum_collateral_amount = calculate_minimum_collateral_amount(loan_amount, protocol_usage_fee, minimum_collateral_ratio, ada_to_usd)\n",
    "loan_to_value = calculate_loan_to_value(loan_amount, ada_collateral, ada_to_usd)\n",
    "\n",
    "print(\"Collateral Ratio: \", collateral_ratio)\n",
    "print(\"Ada to usdt exchange rate: \", ada_to_usd)\n",
    "print(\"Minimum Collateral Amount: \", minimum_collateral_amount)\n",
    "print(\"Maximum Laon to Value: \", maximum_loan_to_value)\n",
    "print(\"Loan to Value: \", loan_to_value)\n",
    "print(\"Can be liquidated due to high ltv: \", can_be_liquidated_due_to_high_ltv(loan_to_value, maximum_loan_to_value))\n",
    "print(\"Is Liquidated: \", is_liquidated(ada_collateral * ada_to_usd, loan_amount, protocol_usage_fee, minimum_collateral_ratio))"
   ]
  }
 ],
 "metadata": {
  "kernelspec": {
   "display_name": "Python 3",
   "language": "python",
   "name": "python3"
  },
  "language_info": {
   "codemirror_mode": {
    "name": "ipython",
    "version": 3
   },
   "file_extension": ".py",
   "mimetype": "text/x-python",
   "name": "python",
   "nbconvert_exporter": "python",
   "pygments_lexer": "ipython3",
   "version": "3.11.5"
  }
 },
 "nbformat": 4,
 "nbformat_minor": 2
}
